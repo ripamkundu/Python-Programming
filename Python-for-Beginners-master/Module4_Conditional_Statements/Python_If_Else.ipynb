{
  "nbformat": 4,
  "nbformat_minor": 0,
  "metadata": {
    "colab": {
      "name": "Python_If...Else.ipynb",
      "version": "0.3.2",
      "provenance": [],
      "collapsed_sections": []
    },
    "kernelspec": {
      "name": "python3",
      "display_name": "Python 3"
    }
  },
  "cells": [
    {
      "cell_type": "markdown",
      "metadata": {
        "id": "Iz8UYDjzxFvg",
        "colab_type": "text"
      },
      "source": [
        "# Python Conditional Statement :  If ... Else Statement\n",
        "\n",
        "**Python Conditional Operators (conditions)  and If statements**\n",
        "\n",
        "Python supports the usual logical conditions from mathematics:\n",
        "\n",
        "**Equals: ** a == b\n",
        "**Not Equals: ** a != b\n",
        "**Less than:**  a < b\n",
        "**Less than or equal to:** a <= b\n",
        "**Greater than:** a > b\n",
        "**Greater than or equal to:** a >= b\n"
      ]
    },
    {
      "cell_type": "markdown",
      "metadata": {
        "id": "jKB402BSky1H",
        "colab_type": "text"
      },
      "source": [
        "### If statement\n",
        "\n",
        "---\n",
        "\n",
        "\n",
        "These conditions can be used in several ways, most commonly in \"if statements\" and loops.\n",
        "\n",
        "An \"if statement\" is written by using the if keyword."
      ]
    },
    {
      "cell_type": "code",
      "metadata": {
        "id": "uD6XC1fWw9qN",
        "colab_type": "code",
        "outputId": "f0e23776-a8ea-4c78-c3ee-2d8c1d9cfedd",
        "colab": {
          "base_uri": "https://localhost:8080/",
          "height": 34
        }
      },
      "source": [
        "a = 33\n",
        "\n",
        "b = 200\n",
        "\n",
        "if b>a:\n",
        "  print(\"b is greater than a\")"
      ],
      "execution_count": 0,
      "outputs": [
        {
          "output_type": "stream",
          "text": [
            "b is greater than a\n"
          ],
          "name": "stdout"
        }
      ]
    },
    {
      "cell_type": "markdown",
      "metadata": {
        "id": "Kgqi58aS10QT",
        "colab_type": "text"
      },
      "source": [
        "**Indentation**\n",
        "\n",
        "Python relies on indentation, using whitespace, to define scope in the code. Other programming languages often use curly-brackets for this purpose.\n",
        "\n",
        "---\n",
        "\n"
      ]
    },
    {
      "cell_type": "code",
      "metadata": {
        "id": "oBylwgTC15jJ",
        "colab_type": "code",
        "outputId": "1d7855c4-b62a-48e1-d24c-455611e441e1",
        "colab": {
          "base_uri": "https://localhost:8080/",
          "height": 129
        }
      },
      "source": [
        "#If statement, without indentation (will raise an error):\n",
        "\n",
        "a = 33\n",
        "b = 200\n",
        "if b > a:\n",
        "print(\"b is greater than a\") # you will get an error"
      ],
      "execution_count": 0,
      "outputs": [
        {
          "output_type": "error",
          "ename": "IndentationError",
          "evalue": "ignored",
          "traceback": [
            "\u001b[0;36m  File \u001b[0;32m\"<ipython-input-2-37fb9cd3820b>\"\u001b[0;36m, line \u001b[0;32m5\u001b[0m\n\u001b[0;31m    print(\"b is greater than a\") # you will get an error\u001b[0m\n\u001b[0m        ^\u001b[0m\n\u001b[0;31mIndentationError\u001b[0m\u001b[0;31m:\u001b[0m expected an indented block\n"
          ]
        }
      ]
    },
    {
      "cell_type": "markdown",
      "metadata": {
        "id": "BbAG4R2o2Ouv",
        "colab_type": "text"
      },
      "source": [
        "**Elif**\n",
        "\n",
        "The elif keyword is pythons way of saying \"if the previous conditions were not true, then try this condition\".\n",
        "\n",
        "---\n",
        "\n"
      ]
    },
    {
      "cell_type": "code",
      "metadata": {
        "id": "8x2KtpSL12O1",
        "colab_type": "code",
        "outputId": "ff81d837-8b6e-4a62-8c95-86baecebacc2",
        "colab": {
          "base_uri": "https://localhost:8080/",
          "height": 34
        }
      },
      "source": [
        "a = 33\n",
        "\n",
        "b = 33\n",
        "\n",
        "if a > b:\n",
        "  print(\"a is greater than b\")\n",
        "elif a == b:\n",
        "  print(\"a is equal to b\")\n",
        "  \n",
        "  #In this example a is equal to b, so the first condition is not true, but the elif condition is true, so we print to screen that \"a and b are equal\"."
      ],
      "execution_count": 0,
      "outputs": [
        {
          "output_type": "stream",
          "text": [
            "a is equal to b\n"
          ],
          "name": "stdout"
        }
      ]
    },
    {
      "cell_type": "markdown",
      "metadata": {
        "id": "T58SqzDQ2n1B",
        "colab_type": "text"
      },
      "source": [
        " **Else**\n",
        "  \n",
        "The else keyword catches anything which isn't caught by the preceding conditions.\n",
        "\n",
        "---\n",
        "\n"
      ]
    },
    {
      "cell_type": "code",
      "metadata": {
        "id": "fzYbhmJi25-E",
        "colab_type": "code",
        "outputId": "c729ad70-0c9e-4b2c-b546-d3093ccc38d7",
        "colab": {
          "base_uri": "https://localhost:8080/",
          "height": 34
        }
      },
      "source": [
        "a = 200\n",
        "\n",
        "b = 30\n",
        "\n",
        "if b > a:\n",
        "  print(\"b is greater than a\")\n",
        "\n",
        "elif b == a:\n",
        "  print(\"a is equal to b\")\n",
        "\n",
        "else:\n",
        "  print(\"a is greater than b\")"
      ],
      "execution_count": 0,
      "outputs": [
        {
          "output_type": "stream",
          "text": [
            "a is greater than b\n"
          ],
          "name": "stdout"
        }
      ]
    },
    {
      "cell_type": "markdown",
      "metadata": {
        "id": "g3Jvsrc83ier",
        "colab_type": "text"
      },
      "source": [
        "You can also have an else without the elif:"
      ]
    },
    {
      "cell_type": "code",
      "metadata": {
        "id": "MOQlrnvv3jJj",
        "colab_type": "code",
        "outputId": "e6965859-93e6-49e4-936e-de0cea144779",
        "colab": {
          "base_uri": "https://localhost:8080/",
          "height": 34
        }
      },
      "source": [
        "a = 200\n",
        "b = 33\n",
        "if b > a:\n",
        "  print(\"b is greater than a\")\n",
        "else:\n",
        "  print(\"b is not greater than a\")\n"
      ],
      "execution_count": 0,
      "outputs": [
        {
          "output_type": "stream",
          "text": [
            "b is not greater than a\n"
          ],
          "name": "stdout"
        }
      ]
    },
    {
      "cell_type": "markdown",
      "metadata": {
        "id": "Deb3RePg3qsQ",
        "colab_type": "text"
      },
      "source": [
        "**Short Hand If**\n",
        "\n",
        "If you have only one statement to execute, you can put it on the same line as the if statement.\n",
        "\n",
        "---\n",
        "\n"
      ]
    },
    {
      "cell_type": "code",
      "metadata": {
        "id": "tpmxQnO53sZ3",
        "colab_type": "code",
        "outputId": "e0238429-f6e8-434d-c95e-4ab0f194defd",
        "colab": {
          "base_uri": "https://localhost:8080/",
          "height": 34
        }
      },
      "source": [
        "if a > b: print(\"a is greater than b\")"
      ],
      "execution_count": 0,
      "outputs": [
        {
          "output_type": "stream",
          "text": [
            "a is greater than b\n"
          ],
          "name": "stdout"
        }
      ]
    },
    {
      "cell_type": "markdown",
      "metadata": {
        "id": "nHd47ypy3zyK",
        "colab_type": "text"
      },
      "source": [
        "**Short Hand If ... Else**\n",
        "\n",
        "If you have only one statement to execute, one for if, and one for else, you can put it all on the same line:\n",
        "\n",
        "---\n",
        "\n"
      ]
    },
    {
      "cell_type": "code",
      "metadata": {
        "id": "M7hRHNmZ34GV",
        "colab_type": "code",
        "outputId": "c5825514-f123-4ec1-beaf-978ecd930476",
        "colab": {
          "base_uri": "https://localhost:8080/",
          "height": 34
        }
      },
      "source": [
        "print(\"A\") if a > b else print(\"B\")"
      ],
      "execution_count": 0,
      "outputs": [
        {
          "output_type": "stream",
          "text": [
            "A\n"
          ],
          "name": "stdout"
        }
      ]
    },
    {
      "cell_type": "markdown",
      "metadata": {
        "id": "UwwPV3-Z39BU",
        "colab_type": "text"
      },
      "source": [
        "One line if else statement, with 3 conditions:"
      ]
    },
    {
      "cell_type": "code",
      "metadata": {
        "id": "MbkMbUqZ4Cd4",
        "colab_type": "code",
        "outputId": "1d8039f4-a184-4dfb-a59c-d60c1873aaeb",
        "colab": {
          "base_uri": "https://localhost:8080/",
          "height": 34
        }
      },
      "source": [
        "print(\"A\") if a > b else print(\"=\") if a == b else print(\"B\")"
      ],
      "execution_count": 0,
      "outputs": [
        {
          "output_type": "stream",
          "text": [
            "A\n"
          ],
          "name": "stdout"
        }
      ]
    },
    {
      "cell_type": "markdown",
      "metadata": {
        "id": "ls1_Iitd4cIZ",
        "colab_type": "text"
      },
      "source": [
        "**And**\n",
        "\n",
        "The and keyword is a **logical operator**, and is used to combine conditional statements:\n",
        "\n",
        "---\n",
        "\n"
      ]
    },
    {
      "cell_type": "code",
      "metadata": {
        "id": "ZY88Ic6C4ffG",
        "colab_type": "code",
        "outputId": "bf184be5-499e-4069-d1ed-5095b1dc7be7",
        "colab": {
          "base_uri": "https://localhost:8080/",
          "height": 34
        }
      },
      "source": [
        "a = 30\n",
        "b = 40\n",
        "c = 20\n",
        "\n",
        "if b > a and b > c:\n",
        "  print(\"both the conditions are true\")"
      ],
      "execution_count": 0,
      "outputs": [
        {
          "output_type": "stream",
          "text": [
            "both the conditions are true\n"
          ],
          "name": "stdout"
        }
      ]
    },
    {
      "cell_type": "markdown",
      "metadata": {
        "id": "9JFeqEv649fz",
        "colab_type": "text"
      },
      "source": [
        "**Or**\n",
        "\n",
        "The or keyword is a **logical operator**, and is used to combine conditional statements:\n",
        "\n",
        "---\n",
        "\n"
      ]
    },
    {
      "cell_type": "code",
      "metadata": {
        "id": "gflAYBkT5DNk",
        "colab_type": "code",
        "outputId": "75ea6f20-4777-4852-b44a-3e11079f9657",
        "colab": {
          "base_uri": "https://localhost:8080/",
          "height": 34
        }
      },
      "source": [
        "a = 30\n",
        "b = 40\n",
        "c = 20\n",
        "\n",
        "if b > a or b < c:\n",
        "  print(\"Atleaset one condition is true\")"
      ],
      "execution_count": 0,
      "outputs": [
        {
          "output_type": "stream",
          "text": [
            "Atleaset one condition is true\n"
          ],
          "name": "stdout"
        }
      ]
    },
    {
      "cell_type": "markdown",
      "metadata": {
        "id": "G6pk1H-x5YpR",
        "colab_type": "text"
      },
      "source": [
        ""
      ]
    }
  ]
}
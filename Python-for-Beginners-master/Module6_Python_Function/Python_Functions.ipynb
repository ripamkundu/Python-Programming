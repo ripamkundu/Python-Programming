{
  "nbformat": 4,
  "nbformat_minor": 0,
  "metadata": {
    "colab": {
      "name": "Python_Functions.ipynb",
      "version": "0.3.2",
      "provenance": [],
      "collapsed_sections": []
    },
    "kernelspec": {
      "name": "python3",
      "display_name": "Python 3"
    }
  },
  "cells": [
    {
      "cell_type": "markdown",
      "metadata": {
        "id": "9MSCB8CqlP3Y",
        "colab_type": "text"
      },
      "source": [
        "#Python Functions\n",
        "\n",
        "A function is **a block of code** which **only runs when it is called**.\n",
        "\n",
        "You can **pass data, known as parameters**, into a function.\n",
        "\n",
        "A function can **return data as a result**.\n",
        "\n",
        "---\n",
        "\n"
      ]
    },
    {
      "cell_type": "markdown",
      "metadata": {
        "id": "z2Dmv8WKlzKd",
        "colab_type": "text"
      },
      "source": [
        "**Creating a Function**\n",
        "\n",
        "In Python a function is defined using the def keyword:"
      ]
    },
    {
      "cell_type": "code",
      "metadata": {
        "id": "HLe4cU7nlPON",
        "colab_type": "code",
        "colab": {}
      },
      "source": [
        "def my_function():\n",
        "  print(\"Hello from a function\")"
      ],
      "execution_count": 0,
      "outputs": []
    },
    {
      "cell_type": "markdown",
      "metadata": {
        "id": "IEwvhQIimDqQ",
        "colab_type": "text"
      },
      "source": [
        "**Calling a Function**\n",
        "\n",
        "To call a function, use the function name followed by parenthesis:"
      ]
    },
    {
      "cell_type": "code",
      "metadata": {
        "id": "9ZuZSUVAmFrW",
        "colab_type": "code",
        "outputId": "a8888004-3e03-424f-dcd8-db34f0d09d57",
        "colab": {
          "base_uri": "https://localhost:8080/",
          "height": 34
        }
      },
      "source": [
        "def my_function():\n",
        "  print(\"Hello from a function\")\n",
        "  \n",
        "my_function()"
      ],
      "execution_count": 0,
      "outputs": [
        {
          "output_type": "stream",
          "text": [
            "Hello from a function\n"
          ],
          "name": "stdout"
        }
      ]
    },
    {
      "cell_type": "markdown",
      "metadata": {
        "id": "uNF4bDazmXyI",
        "colab_type": "text"
      },
      "source": [
        "#Parameters\n",
        "\n",
        "**Information can be passed to functions as parameter.**\n",
        "\n",
        "Parameters are specified after the **function name, inside the parentheses ( )**. ** You can add as many parameters as you want, just separate them with a comma ( , )**.\n",
        " \n",
        "The following example has a function with one parameter (fname). When the function is called, we pass along a first name, which is used inside the function to print the full name:\n",
        "\n",
        "---\n",
        "\n"
      ]
    },
    {
      "cell_type": "code",
      "metadata": {
        "id": "7O2zKquhmrbc",
        "colab_type": "code",
        "outputId": "3cfd4e7b-626b-42bb-8e8b-3d0d94c20a3d",
        "colab": {
          "base_uri": "https://localhost:8080/",
          "height": 68
        }
      },
      "source": [
        "def my_function(fname):\n",
        "  print(fname + \"Refense\")\n",
        "\n",
        "my_function(\"Emil\")\n",
        "my_function(\"Tobias\")\n",
        "my_function(\"Linus\")"
      ],
      "execution_count": 0,
      "outputs": [
        {
          "output_type": "stream",
          "text": [
            "EmilRefense\n",
            "TobiasRefense\n",
            "LinusRefense\n"
          ],
          "name": "stdout"
        }
      ]
    },
    {
      "cell_type": "markdown",
      "metadata": {
        "id": "-JmkM910njnk",
        "colab_type": "text"
      },
      "source": [
        "**Default Parameter Value**\n",
        "\n",
        "The following example shows how to use a default parameter value.\n",
        "\n",
        "If we call the function without parameter, it uses the default value:"
      ]
    },
    {
      "cell_type": "code",
      "metadata": {
        "id": "L8YWFHlBnpjP",
        "colab_type": "code",
        "outputId": "a1c3ffa0-af3c-4982-cfa8-b49a6757b885",
        "colab": {
          "base_uri": "https://localhost:8080/",
          "height": 85
        }
      },
      "source": [
        "def my_function(country = \"Norway\"):\n",
        "  print(\"I am from \" + country)\n",
        "  \n",
        "my_function(\"Sweden\")\n",
        "my_function(\"India\")\n",
        "my_function()\n",
        "my_function(\"Brazil\")"
      ],
      "execution_count": 0,
      "outputs": [
        {
          "output_type": "stream",
          "text": [
            "I am from Sweden\n",
            "I am from India\n",
            "I am from Norway\n",
            "I am from Brazil\n"
          ],
          "name": "stdout"
        }
      ]
    },
    {
      "cell_type": "markdown",
      "metadata": {
        "id": "3e4SW2L-oN38",
        "colab_type": "text"
      },
      "source": [
        "**Return Values**\n",
        "\n",
        "To let a function return a value, use the** return statement:**\n",
        "\n",
        "---\n",
        "\n"
      ]
    },
    {
      "cell_type": "code",
      "metadata": {
        "id": "McqWsfPUoMlB",
        "colab_type": "code",
        "outputId": "39b354ae-d555-47a9-9b6f-5ea07bba39e8",
        "colab": {
          "base_uri": "https://localhost:8080/",
          "height": 68
        }
      },
      "source": [
        "def my_function(x):\n",
        "  return 5 * x\n",
        "\n",
        "print(my_function(3))\n",
        "print(my_function(5))\n",
        "print(my_function(9))"
      ],
      "execution_count": 0,
      "outputs": [
        {
          "output_type": "stream",
          "text": [
            "15\n",
            "25\n",
            "45\n"
          ],
          "name": "stdout"
        }
      ]
    },
    {
      "cell_type": "markdown",
      "metadata": {
        "id": "745r2kxepLU5",
        "colab_type": "text"
      },
      "source": [
        "**Recursion**\n",
        "\n",
        "Python also accepts function recursion, which means a defined function can call itself.\n",
        "\n",
        "Recursion is a common mathematical and programming concept. It means that a function calls itself. This has the benefit of meaning that you can loop through data to reach a result.\n",
        "\n",
        "The developer should be very careful with recursion as it can be quite easy to slip into writing a function which never terminates, or one that uses excess amounts of memory or processor power. However, when written correctly recursion can be a very efficient and mathematically-elegant approach to programming.\n",
        "\n",
        "In this example, tri_recursion() is a function that we have defined to call itself (\"recurse\"). We use the k variable as the data, which decrements (-1) every time we recurse. The recursion ends when the condition is not greater than 0 (i.e. when it is 0).\n",
        "\n",
        "To a new developer it can take some time to work out how exactly this works, best way to find out is by testing and modifying it.\n",
        "\n",
        "---\n",
        "\n"
      ]
    },
    {
      "cell_type": "code",
      "metadata": {
        "id": "vYY9Y75kpf3g",
        "colab_type": "code",
        "outputId": "136348ec-b0a8-4302-baf9-4bdb6a2e26b4",
        "colab": {
          "base_uri": "https://localhost:8080/",
          "height": 187
        }
      },
      "source": [
        "def tri_recursion(k):\n",
        "  if(k>0):\n",
        "    result = k + tri_recursion(k-1)\n",
        "    print(result)\n",
        "  else:\n",
        "    result = 0\n",
        "  return result\n",
        "\n",
        "print(\"\\n\\nRecursion Example Results\")\n",
        "tri_recursion(6)"
      ],
      "execution_count": 0,
      "outputs": [
        {
          "output_type": "stream",
          "text": [
            "\n",
            "\n",
            "Recursion Example Results\n",
            "1\n",
            "3\n",
            "6\n",
            "10\n",
            "15\n",
            "21\n"
          ],
          "name": "stdout"
        },
        {
          "output_type": "execute_result",
          "data": {
            "text/plain": [
              "21"
            ]
          },
          "metadata": {
            "tags": []
          },
          "execution_count": 16
        }
      ]
    },
    {
      "cell_type": "markdown",
      "metadata": {
        "id": "Gqeu9HgawjjB",
        "colab_type": "text"
      },
      "source": [
        "**Factorial of any number**\n",
        "\n",
        "---\n",
        "\n"
      ]
    },
    {
      "cell_type": "code",
      "metadata": {
        "id": "lnWlZXmpwqJU",
        "colab_type": "code",
        "outputId": "487a5441-09d4-40a7-8cbd-97bf48fac20c",
        "colab": {
          "base_uri": "https://localhost:8080/",
          "height": 34
        }
      },
      "source": [
        "def fact(n):\n",
        "  if n == 0:\n",
        "    return 1\n",
        "  return n * fact(n-1)\n",
        "\n",
        "result = fact(5)\n",
        "\n",
        "print(result)\n"
      ],
      "execution_count": 0,
      "outputs": [
        {
          "output_type": "stream",
          "text": [
            "120\n"
          ],
          "name": "stdout"
        }
      ]
    },
    {
      "cell_type": "markdown",
      "metadata": {
        "id": "2MYI1WRo9GeD",
        "colab_type": "text"
      },
      "source": [
        "** Sum of Square of n Number **\n",
        "\n",
        "n = 1^2 + 2^2 + 3^2 + .....+ (n-1)^2 + n ^2\n",
        "\n",
        "square_sum(1) = 1\n",
        "\n",
        "square_sum(n) = n^2 + square_sum(n-1)\n",
        "\n",
        "---\n",
        "\n"
      ]
    },
    {
      "cell_type": "code",
      "metadata": {
        "id": "UunQpcKp9szF",
        "colab_type": "code",
        "outputId": "c4e7731a-0bed-4a18-b733-9a5431f74b7e",
        "colab": {
          "base_uri": "https://localhost:8080/",
          "height": 34
        }
      },
      "source": [
        "def square_sum(n):\n",
        "  if n == 1:\n",
        "    return 1\n",
        "  else:\n",
        "    return n*n + square_sum(n-1)\n",
        "  \n",
        "result = square_sum(4)\n",
        "\n",
        "print(result)"
      ],
      "execution_count": 0,
      "outputs": [
        {
          "output_type": "stream",
          "text": [
            "30\n"
          ],
          "name": "stdout"
        }
      ]
    }
  ]
}
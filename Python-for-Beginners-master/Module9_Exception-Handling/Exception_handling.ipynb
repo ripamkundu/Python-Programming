{
  "nbformat": 4,
  "nbformat_minor": 0,
  "metadata": {
    "colab": {
      "name": "Exception_handling.ipynb",
      "version": "0.3.2",
      "provenance": []
    },
    "kernelspec": {
      "name": "python3",
      "display_name": "Python 3"
    }
  },
  "cells": [
    {
      "cell_type": "markdown",
      "metadata": {
        "id": "Tv9mRq_bZhYC",
        "colab_type": "text"
      },
      "source": [
        "# Exception Handling: \n",
        "\n",
        "---\n",
        "\n",
        "When an error occurs, or exception as we call it, Python will normally stop and generate an error message.\n",
        "\n",
        "These exceptions can be handled using the try statement:"
      ]
    },
    {
      "cell_type": "code",
      "metadata": {
        "id": "7kdN7FcmZfKf",
        "colab_type": "code",
        "colab": {
          "base_uri": "https://localhost:8080/",
          "height": 34
        },
        "outputId": "048ebddd-4258-4f14-acd3-28c57b51f9d2"
      },
      "source": [
        "# The try block will generate an exception, because x is not defined:\n",
        "\n",
        "try:\n",
        "  print(x)\n",
        "except:\n",
        "  print(\"An exception occurred\")"
      ],
      "execution_count": 1,
      "outputs": [
        {
          "output_type": "stream",
          "text": [
            "An exception occurred\n"
          ],
          "name": "stdout"
        }
      ]
    },
    {
      "cell_type": "markdown",
      "metadata": {
        "id": "GxRmVhscZ7BY",
        "colab_type": "text"
      },
      "source": [
        "Since the try block raises an error, the except block will be executed."
      ]
    },
    {
      "cell_type": "markdown",
      "metadata": {
        "id": "40KGJl-TaALn",
        "colab_type": "text"
      },
      "source": [
        "## Many Exceptions\n",
        "\n",
        "---\n",
        "\n",
        "\n",
        "You can define as many exception blocks as you want, e.g. if you want to execute a special block of code for a special kind of error:"
      ]
    },
    {
      "cell_type": "code",
      "metadata": {
        "id": "tWWEUpplZx72",
        "colab_type": "code",
        "colab": {
          "base_uri": "https://localhost:8080/",
          "height": 34
        },
        "outputId": "456f5d52-544d-4e65-d9a7-0b93188f087c"
      },
      "source": [
        "# Print one message if the try block raises a NameError and another for other errors:\n",
        "\n",
        "try:\n",
        "  print(x)\n",
        "except NameError:\n",
        "  print(\"Variable x is not defined\")\n",
        "except:\n",
        "  print(\"Something else went wrong\")"
      ],
      "execution_count": 2,
      "outputs": [
        {
          "output_type": "stream",
          "text": [
            "Variable x is not defined\n"
          ],
          "name": "stdout"
        }
      ]
    },
    {
      "cell_type": "markdown",
      "metadata": {
        "id": "rj5Z2JTLaK1G",
        "colab_type": "text"
      },
      "source": [
        "## Else\n",
        "You can use the else keyword to define a block of code to be executed if no errors were raised:\n",
        "\n",
        "Example\n",
        "In this example, the try block does not generate any error:"
      ]
    },
    {
      "cell_type": "code",
      "metadata": {
        "id": "-9lLpeN8aF3q",
        "colab_type": "code",
        "colab": {
          "base_uri": "https://localhost:8080/",
          "height": 51
        },
        "outputId": "318062dc-e9ac-4a45-ad1d-a84861a58051"
      },
      "source": [
        "try:\n",
        "  print(\"Hello\")\n",
        "except:\n",
        "  print(\"Something went wrong\")\n",
        "else:\n",
        "  print(\"Nothing went wrong\")"
      ],
      "execution_count": 3,
      "outputs": [
        {
          "output_type": "stream",
          "text": [
            "Hello\n",
            "Nothing went wrong\n"
          ],
          "name": "stdout"
        }
      ]
    },
    {
      "cell_type": "markdown",
      "metadata": {
        "id": "IKVwA-ZJaS6x",
        "colab_type": "text"
      },
      "source": [
        "## Finally\n",
        "The finally block, if specified, will be executed regardless if the try block raises an error or not.\n",
        "\n",
        "Example\n"
      ]
    },
    {
      "cell_type": "code",
      "metadata": {
        "id": "1UZJLGYTaPWU",
        "colab_type": "code",
        "colab": {
          "base_uri": "https://localhost:8080/",
          "height": 51
        },
        "outputId": "7fcf1999-9e13-462d-c0ea-5dd9bd9be20d"
      },
      "source": [
        "try:\n",
        "  print(x)\n",
        "except:\n",
        "  print(\"Something went wrong\")\n",
        "finally:\n",
        "  print(\"The 'try except' is finished\")"
      ],
      "execution_count": 4,
      "outputs": [
        {
          "output_type": "stream",
          "text": [
            "Something went wrong\n",
            "The 'try except' is finished\n"
          ],
          "name": "stdout"
        }
      ]
    },
    {
      "cell_type": "code",
      "metadata": {
        "id": "035jIFc_aVAJ",
        "colab_type": "code",
        "colab": {}
      },
      "source": [
        "#This can be useful to close objects and clean up resources:\n",
        "\n",
        "# Try to open and write to a file that is not writable:\n",
        "\n",
        "#The try block will raise an error when trying to write to a read-only file:\n",
        "\n",
        "try:\n",
        "  f = open(\"demofile.txt\")\n",
        "  f.write(\"Lorum Ipsum\")\n",
        "except:\n",
        "  print(\"Something went wrong when writing to the file\")\n",
        "finally:\n",
        "  f.close()\n",
        "\n",
        "#The program can continue, without leaving the file object open"
      ],
      "execution_count": 0,
      "outputs": []
    }
  ]
}
{
  "nbformat": 4,
  "nbformat_minor": 0,
  "metadata": {
    "colab": {
      "name": "Flow_Control_in_Python.ipynb",
      "version": "0.3.2",
      "provenance": []
    },
    "kernelspec": {
      "name": "python3",
      "display_name": "Python 3"
    }
  },
  "cells": [
    {
      "cell_type": "markdown",
      "metadata": {
        "id": "iQUE1NgyKiZZ",
        "colab_type": "text"
      },
      "source": [
        "## If Statement\n",
        "\n",
        "---\n",
        "\n",
        "The Python compound statement ’if’ lets you conditionally execute blocks of statements.\n",
        "\n"
      ]
    },
    {
      "cell_type": "code",
      "metadata": {
        "id": "SHADwzUfKefZ",
        "colab_type": "code",
        "colab": {
          "base_uri": "https://localhost:8080/",
          "height": 51
        },
        "outputId": "cab43e7d-4f5f-4772-be36-b86ce0a97fcc"
      },
      "source": [
        "password = input(\"Enter Your password\")\n",
        "\n",
        "if password == \"suneel\":\n",
        "   print('Login successful.')\n",
        "else:\n",
        "   print('Login failed. Incorrect password.')"
      ],
      "execution_count": 12,
      "outputs": [
        {
          "output_type": "stream",
          "text": [
            "Enter Your passwordsuneel\n",
            "Login successful.\n"
          ],
          "name": "stdout"
        }
      ]
    },
    {
      "cell_type": "markdown",
      "metadata": {
        "id": "316G2IFTLs8c",
        "colab_type": "text"
      },
      "source": [
        "## For Statement:\n",
        "\n",
        "---\n",
        "\n",
        "The for statement supports repeated execution of a statement or block of statements that is controlled by an iterable expression."
      ]
    },
    {
      "cell_type": "code",
      "metadata": {
        "id": "_49bDiS-KsQR",
        "colab_type": "code",
        "colab": {
          "base_uri": "https://localhost:8080/",
          "height": 204
        },
        "outputId": "0cbeddbe-74ae-4da0-83de-5684d2eafdf3"
      },
      "source": [
        "# Let us now look at a sample program in Python to demonstrate the For statement.\n",
        "\n",
        "travelling = input(\"Are you travelling? Yes or No:\")\n",
        "while travelling == 'yes':\n",
        "   num = int(input(\"Enter the number of people travelling:\"))\n",
        "   for num in range(1,num+1):\n",
        "      name = input(\"Enter Details Name:\")\n",
        "      age = input(\"Age:\")\n",
        "      sex = input(\"Male or Female:\")\n",
        "      print(\"Details Stored\",name)\n",
        "      print(age)\n",
        "      print(sex)\n",
        "   print(\"Thank you!\")\n",
        "   travelling = input(\"Are you travelling? Yes or No:\")\n",
        "print(\"Please come back again.\")"
      ],
      "execution_count": 7,
      "outputs": [
        {
          "output_type": "stream",
          "text": [
            "Are you travelling? Yes or No:yes\n",
            "Enter the number of people travelling:1\n",
            "Enter Details Name:Suneel Patel\n",
            "Age:33\n",
            "Male or Female:Male\n",
            "Details Stored Suneel Patel\n",
            "33\n",
            "Male\n",
            "Thank you!\n",
            "Are you travelling? Yes or No:no\n",
            "Please come back again.\n"
          ],
          "name": "stdout"
        }
      ]
    },
    {
      "cell_type": "markdown",
      "metadata": {
        "id": "jz3HnD2MM6r8",
        "colab_type": "text"
      },
      "source": [
        "## While Statement: \n",
        "\n",
        "---\n",
        "\n",
        "The while statement in Python programming supports repeated execution of a statement or block of statements that is controlled by a conditional expression."
      ]
    },
    {
      "cell_type": "code",
      "metadata": {
        "id": "U-zf1DJXMMgI",
        "colab_type": "code",
        "colab": {
          "base_uri": "https://localhost:8080/",
          "height": 221
        },
        "outputId": "da866ff3-5ea6-47cd-c68f-2ca8af041d05"
      },
      "source": [
        "# Let us now look at a sample program in Python to demonstrate the While statement.\n",
        "count = 0\n",
        "print('Printing numbers from 0 to 9')\n",
        "while (count<10):\n",
        "   print('The count is ',count)\n",
        "   count = count+1\n",
        "print('Good Bye')\n"
      ],
      "execution_count": 13,
      "outputs": [
        {
          "output_type": "stream",
          "text": [
            "Printing numbers from 0 to 9\n",
            "The count is  0\n",
            "The count is  1\n",
            "The count is  2\n",
            "The count is  3\n",
            "The count is  4\n",
            "The count is  5\n",
            "The count is  6\n",
            "The count is  7\n",
            "The count is  8\n",
            "The count is  9\n",
            "Good Bye\n"
          ],
          "name": "stdout"
        }
      ]
    },
    {
      "cell_type": "markdown",
      "metadata": {
        "id": "GycaNZgCNO22",
        "colab_type": "text"
      },
      "source": [
        "## Break Statement: \n",
        "\n",
        "---\n",
        "The break statement is allowed only inside a loop body. When break executes, the loop terminates. If a loop is nested inside other loops, break terminates only the innermost nested loop."
      ]
    },
    {
      "cell_type": "code",
      "metadata": {
        "id": "i4noOCdcNKkO",
        "colab_type": "code",
        "colab": {
          "base_uri": "https://localhost:8080/",
          "height": 340
        },
        "outputId": "604383dc-33ad-4d25-e1c3-e7688897b3e4"
      },
      "source": [
        "for letter in 'The Quick Brown Fox. Jumps, Over The Lazy Dog':\n",
        "   if letter == '.':\n",
        "      break\n",
        "   print ('Current Letter :', letter)"
      ],
      "execution_count": 14,
      "outputs": [
        {
          "output_type": "stream",
          "text": [
            "Current Letter : T\n",
            "Current Letter : h\n",
            "Current Letter : e\n",
            "Current Letter :  \n",
            "Current Letter : Q\n",
            "Current Letter : u\n",
            "Current Letter : i\n",
            "Current Letter : c\n",
            "Current Letter : k\n",
            "Current Letter :  \n",
            "Current Letter : B\n",
            "Current Letter : r\n",
            "Current Letter : o\n",
            "Current Letter : w\n",
            "Current Letter : n\n",
            "Current Letter :  \n",
            "Current Letter : F\n",
            "Current Letter : o\n",
            "Current Letter : x\n"
          ],
          "name": "stdout"
        }
      ]
    },
    {
      "cell_type": "markdown",
      "metadata": {
        "id": "nYBMT0opNii0",
        "colab_type": "text"
      },
      "source": [
        "## Continue Statement: \n",
        "\n",
        "---\n",
        "\n",
        "The continue statement is allowed only inside a loop body. When continue executes, the current iteration of the loop body terminates, and execution continues with the next iteration of the loop."
      ]
    },
    {
      "cell_type": "code",
      "metadata": {
        "id": "T2EXi5UlNlhJ",
        "colab_type": "code",
        "colab": {
          "base_uri": "https://localhost:8080/",
          "height": 204
        },
        "outputId": "f8821cf5-1542-4e5a-8ebe-6c10c6877e36"
      },
      "source": [
        "# Let us now look at a sample program in Python to demonstrate the Continue statement.\n",
        "for num in range(10, 21):\n",
        "   if num % 5 == 0:\n",
        "      print (\"Found a multiple of 5\")\n",
        "      pass\n",
        "      num = num + 1\n",
        "      continue\n",
        "   print (\"Found number: \", num)"
      ],
      "execution_count": 15,
      "outputs": [
        {
          "output_type": "stream",
          "text": [
            "Found a multiple of 5\n",
            "Found number:  11\n",
            "Found number:  12\n",
            "Found number:  13\n",
            "Found number:  14\n",
            "Found a multiple of 5\n",
            "Found number:  16\n",
            "Found number:  17\n",
            "Found number:  18\n",
            "Found number:  19\n",
            "Found a multiple of 5\n"
          ],
          "name": "stdout"
        }
      ]
    },
    {
      "cell_type": "markdown",
      "metadata": {
        "id": "E-0VnJwjOCnM",
        "colab_type": "text"
      },
      "source": [
        "## Pass Statement:\n",
        "\n",
        "---\n",
        "\n",
        "The pass statement, which performs no action, can be used as a placeholder when a statement is syntactically required but you have nothing specific to do."
      ]
    },
    {
      "cell_type": "code",
      "metadata": {
        "id": "11MljIF6NwZx",
        "colab_type": "code",
        "colab": {
          "base_uri": "https://localhost:8080/",
          "height": 255
        },
        "outputId": "3ce243e1-3cfc-406c-9bce-8d1ee794e921"
      },
      "source": [
        "# Now let us look at a sample program in Python to demonstrate the Pass statement.\n",
        "for num in range(10, 21):\n",
        "   if num % 5 == 0:\n",
        "      print (\"Found a multiple of 5: \")\n",
        "      pass\n",
        "      num++1\n",
        "   print(\"Found number: \", num)"
      ],
      "execution_count": 20,
      "outputs": [
        {
          "output_type": "stream",
          "text": [
            "Found a multiple of 5: \n",
            "Found number:  10\n",
            "Found number:  11\n",
            "Found number:  12\n",
            "Found number:  13\n",
            "Found number:  14\n",
            "Found a multiple of 5: \n",
            "Found number:  15\n",
            "Found number:  16\n",
            "Found number:  17\n",
            "Found number:  18\n",
            "Found number:  19\n",
            "Found a multiple of 5: \n",
            "Found number:  20\n"
          ],
          "name": "stdout"
        }
      ]
    }
  ]
}
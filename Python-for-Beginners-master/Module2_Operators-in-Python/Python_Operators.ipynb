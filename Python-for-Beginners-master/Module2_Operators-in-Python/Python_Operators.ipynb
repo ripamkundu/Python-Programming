{
  "nbformat": 4,
  "nbformat_minor": 0,
  "metadata": {
    "colab": {
      "name": "Python_Operators.ipynb",
      "version": "0.3.2",
      "provenance": []
    },
    "kernelspec": {
      "name": "python3",
      "display_name": "Python 3"
    }
  },
  "cells": [
    {
      "cell_type": "markdown",
      "metadata": {
        "id": "WMMOR4ZTMN53",
        "colab_type": "text"
      },
      "source": [
        "# 1. Arithmetic Operator : \n",
        "\n",
        "---\n",
        "\n",
        "\n",
        "Arithmetic operators are used with numeric values to perform common mathematical operations:\n",
        "(https://www.w3schools.com/python/python_operators.asp)"
      ]
    },
    {
      "cell_type": "code",
      "metadata": {
        "id": "JUQ4RcazOcMg",
        "colab_type": "code",
        "colab": {}
      },
      "source": [
        "# Declare the numeric variable\n",
        "a=9\n",
        "b=3"
      ],
      "execution_count": 0,
      "outputs": []
    },
    {
      "cell_type": "code",
      "metadata": {
        "id": "SvtF1EWML5lQ",
        "colab_type": "code",
        "colab": {
          "base_uri": "https://localhost:8080/",
          "height": 34
        },
        "outputId": "e33a7175-3924-45b1-c195-01049959b7f9"
      },
      "source": [
        "#1. Addition (+)\n",
        "print(a+b)"
      ],
      "execution_count": 26,
      "outputs": [
        {
          "output_type": "stream",
          "text": [
            "12\n"
          ],
          "name": "stdout"
        }
      ]
    },
    {
      "cell_type": "code",
      "metadata": {
        "id": "TUIO-bLCMzm3",
        "colab_type": "code",
        "colab": {
          "base_uri": "https://localhost:8080/",
          "height": 34
        },
        "outputId": "cdd27e39-2fd5-4b94-ff6a-7a4d9e5b90bc"
      },
      "source": [
        "#2. Subtraction (-)\n",
        "print(a-b)"
      ],
      "execution_count": 27,
      "outputs": [
        {
          "output_type": "stream",
          "text": [
            "6\n"
          ],
          "name": "stdout"
        }
      ]
    },
    {
      "cell_type": "code",
      "metadata": {
        "id": "_6yHe4YgNt9a",
        "colab_type": "code",
        "colab": {
          "base_uri": "https://localhost:8080/",
          "height": 34
        },
        "outputId": "25a99b58-b11b-46b4-c97d-300b79920108"
      },
      "source": [
        "#3. Multiplication (*)\n",
        "print(a*b)"
      ],
      "execution_count": 28,
      "outputs": [
        {
          "output_type": "stream",
          "text": [
            "27\n"
          ],
          "name": "stdout"
        }
      ]
    },
    {
      "cell_type": "code",
      "metadata": {
        "id": "UFNZQCGdOAO9",
        "colab_type": "code",
        "colab": {
          "base_uri": "https://localhost:8080/",
          "height": 34
        },
        "outputId": "95e497f2-3e1f-4efb-a11c-60dd547c7c7f"
      },
      "source": [
        "#4. Division (/)\n",
        "print(a/b)"
      ],
      "execution_count": 29,
      "outputs": [
        {
          "output_type": "stream",
          "text": [
            "3.0\n"
          ],
          "name": "stdout"
        }
      ]
    },
    {
      "cell_type": "code",
      "metadata": {
        "id": "2qOuRR0fOJmg",
        "colab_type": "code",
        "colab": {
          "base_uri": "https://localhost:8080/",
          "height": 34
        },
        "outputId": "c3a07ba0-beb2-4e34-b119-bf72c69f086b"
      },
      "source": [
        "#5. Modulus(%)\n",
        "print(a%b)"
      ],
      "execution_count": 30,
      "outputs": [
        {
          "output_type": "stream",
          "text": [
            "0\n"
          ],
          "name": "stdout"
        }
      ]
    },
    {
      "cell_type": "code",
      "metadata": {
        "id": "8zl8bRqeOJv7",
        "colab_type": "code",
        "colab": {
          "base_uri": "https://localhost:8080/",
          "height": 34
        },
        "outputId": "855ff54d-e578-497a-c854-5786f00697de"
      },
      "source": [
        "#6. Exponentiation (**)\n",
        "print(a**b)"
      ],
      "execution_count": 31,
      "outputs": [
        {
          "output_type": "stream",
          "text": [
            "729\n"
          ],
          "name": "stdout"
        }
      ]
    },
    {
      "cell_type": "code",
      "metadata": {
        "id": "bbfph712OJ81",
        "colab_type": "code",
        "colab": {
          "base_uri": "https://localhost:8080/",
          "height": 34
        },
        "outputId": "f3b3966a-35ad-4ec9-f78e-b0b49df28cbe"
      },
      "source": [
        "#7. Floor Division (//)\n",
        "print(a//b)"
      ],
      "execution_count": 32,
      "outputs": [
        {
          "output_type": "stream",
          "text": [
            "3\n"
          ],
          "name": "stdout"
        }
      ]
    },
    {
      "cell_type": "markdown",
      "metadata": {
        "id": "1Pzf8paDQMC7",
        "colab_type": "text"
      },
      "source": [
        "# 2. Assignment Operators: \n",
        "\n",
        "---\n",
        "\n",
        "Assignment operators are used to assign values to variables:"
      ]
    },
    {
      "cell_type": "code",
      "metadata": {
        "id": "CJM9d5R9QUKE",
        "colab_type": "code",
        "colab": {}
      },
      "source": [
        "# Declare variables\n",
        "a=30\n",
        "b=30"
      ],
      "execution_count": 0,
      "outputs": []
    },
    {
      "cell_type": "code",
      "metadata": {
        "id": "_I1wemMeQaGV",
        "colab_type": "code",
        "colab": {}
      },
      "source": [
        "# '=' Operator\n",
        "b = 20"
      ],
      "execution_count": 0,
      "outputs": []
    },
    {
      "cell_type": "code",
      "metadata": {
        "id": "AB6o_ZNRQiUD",
        "colab_type": "code",
        "colab": {
          "base_uri": "https://localhost:8080/",
          "height": 34
        },
        "outputId": "95a452b7-a052-4010-b234-bf81af0741c0"
      },
      "source": [
        "# \"+=\" Operator\n",
        "a+=b\n",
        "print(a)"
      ],
      "execution_count": 36,
      "outputs": [
        {
          "output_type": "stream",
          "text": [
            "50\n"
          ],
          "name": "stdout"
        }
      ]
    },
    {
      "cell_type": "code",
      "metadata": {
        "id": "Kqpjj93EQ2ql",
        "colab_type": "code",
        "colab": {
          "base_uri": "https://localhost:8080/",
          "height": 34
        },
        "outputId": "f75ddace-cafa-4da7-bd8c-666597897bf4"
      },
      "source": [
        "# '-=' Operator\n",
        "a-=b\n",
        "print(a)"
      ],
      "execution_count": 37,
      "outputs": [
        {
          "output_type": "stream",
          "text": [
            "30\n"
          ],
          "name": "stdout"
        }
      ]
    },
    {
      "cell_type": "code",
      "metadata": {
        "id": "U2a3tBqmQ9_U",
        "colab_type": "code",
        "colab": {
          "base_uri": "https://localhost:8080/",
          "height": 34
        },
        "outputId": "2abd8e15-b09b-4777-a8f0-49f36cc3b62d"
      },
      "source": [
        "# '*=' Operator\n",
        "a*=b\n",
        "print(a)"
      ],
      "execution_count": 38,
      "outputs": [
        {
          "output_type": "stream",
          "text": [
            "600\n"
          ],
          "name": "stdout"
        }
      ]
    },
    {
      "cell_type": "code",
      "metadata": {
        "id": "5ShKfsHERGRh",
        "colab_type": "code",
        "colab": {
          "base_uri": "https://localhost:8080/",
          "height": 34
        },
        "outputId": "919c1488-64c7-4533-b4b5-9819646e5323"
      },
      "source": [
        "# '/=' Operator\n",
        "a/=b\n",
        "print(a)"
      ],
      "execution_count": 39,
      "outputs": [
        {
          "output_type": "stream",
          "text": [
            "30.0\n"
          ],
          "name": "stdout"
        }
      ]
    },
    {
      "cell_type": "code",
      "metadata": {
        "id": "zp0yBr7NRL-o",
        "colab_type": "code",
        "colab": {
          "base_uri": "https://localhost:8080/",
          "height": 34
        },
        "outputId": "05b4203b-8de4-4fa3-8e51-406e12ddc8e5"
      },
      "source": [
        "# '%=' Operator\n",
        "a%=b\n",
        "print(a)"
      ],
      "execution_count": 40,
      "outputs": [
        {
          "output_type": "stream",
          "text": [
            "10.0\n"
          ],
          "name": "stdout"
        }
      ]
    },
    {
      "cell_type": "code",
      "metadata": {
        "id": "6DwAg7s0RWfM",
        "colab_type": "code",
        "colab": {
          "base_uri": "https://localhost:8080/",
          "height": 34
        },
        "outputId": "9534ee68-836b-46ed-b78a-8990f87cdf6e"
      },
      "source": [
        "# '//=' Operator\n",
        "a//=b\n",
        "print(a)"
      ],
      "execution_count": 41,
      "outputs": [
        {
          "output_type": "stream",
          "text": [
            "0.0\n"
          ],
          "name": "stdout"
        }
      ]
    },
    {
      "cell_type": "code",
      "metadata": {
        "id": "2pQeDOYjRezI",
        "colab_type": "code",
        "colab": {
          "base_uri": "https://localhost:8080/",
          "height": 34
        },
        "outputId": "416bf597-8eeb-4812-cce1-cde4aef0a953"
      },
      "source": [
        "# \"**=\"\n",
        "a**=b\n",
        "print(a)"
      ],
      "execution_count": 42,
      "outputs": [
        {
          "output_type": "stream",
          "text": [
            "0.0\n"
          ],
          "name": "stdout"
        }
      ]
    },
    {
      "cell_type": "markdown",
      "metadata": {
        "id": "biueDFTiR3kS",
        "colab_type": "text"
      },
      "source": [
        "# 3. Comparison Operators:\n",
        "\n",
        "---\n",
        "\n",
        "Comparison operators are used to compare two values:"
      ]
    },
    {
      "cell_type": "code",
      "metadata": {
        "id": "4wO2RAxIR-xw",
        "colab_type": "code",
        "colab": {}
      },
      "source": [
        "# Declare Variable\n",
        "a = 30\n",
        "b = 10"
      ],
      "execution_count": 0,
      "outputs": []
    },
    {
      "cell_type": "code",
      "metadata": {
        "id": "DzJApDnDSHQf",
        "colab_type": "code",
        "colab": {
          "base_uri": "https://localhost:8080/",
          "height": 34
        },
        "outputId": "48a32571-4cdf-448a-84ce-f402b03f915a"
      },
      "source": [
        "# Equal (==) Operator\n",
        "print(a==b)"
      ],
      "execution_count": 46,
      "outputs": [
        {
          "output_type": "stream",
          "text": [
            "False\n"
          ],
          "name": "stdout"
        }
      ]
    },
    {
      "cell_type": "code",
      "metadata": {
        "id": "kTFyzkjUSW3t",
        "colab_type": "code",
        "colab": {
          "base_uri": "https://localhost:8080/",
          "height": 34
        },
        "outputId": "031e131a-2618-4b73-e5be-180a5d9a2f53"
      },
      "source": [
        "# Not equal (!=) Operator\n",
        "print(a!=b)"
      ],
      "execution_count": 47,
      "outputs": [
        {
          "output_type": "stream",
          "text": [
            "True\n"
          ],
          "name": "stdout"
        }
      ]
    },
    {
      "cell_type": "code",
      "metadata": {
        "id": "Arqk5tpqSfz1",
        "colab_type": "code",
        "colab": {
          "base_uri": "https://localhost:8080/",
          "height": 34
        },
        "outputId": "9e83c4cd-e32c-4798-99c2-e7763cac0d2a"
      },
      "source": [
        "# Greater than (>) Operator\n",
        "print(a>b)"
      ],
      "execution_count": 49,
      "outputs": [
        {
          "output_type": "stream",
          "text": [
            "True\n"
          ],
          "name": "stdout"
        }
      ]
    },
    {
      "cell_type": "code",
      "metadata": {
        "id": "TjO83sJcSn7q",
        "colab_type": "code",
        "colab": {
          "base_uri": "https://localhost:8080/",
          "height": 34
        },
        "outputId": "964066da-6776-403d-9006-993d8f61b4f8"
      },
      "source": [
        "# Less than (<) Operator\n",
        "print(a<b)"
      ],
      "execution_count": 50,
      "outputs": [
        {
          "output_type": "stream",
          "text": [
            "False\n"
          ],
          "name": "stdout"
        }
      ]
    },
    {
      "cell_type": "code",
      "metadata": {
        "id": "kx0qUZTVS06F",
        "colab_type": "code",
        "colab": {
          "base_uri": "https://localhost:8080/",
          "height": 34
        },
        "outputId": "bd24f8e2-114a-4553-a098-54555282fc45"
      },
      "source": [
        "# Greater than or equal to (>=) Operator\n",
        "print(a>=b)"
      ],
      "execution_count": 51,
      "outputs": [
        {
          "output_type": "stream",
          "text": [
            "True\n"
          ],
          "name": "stdout"
        }
      ]
    },
    {
      "cell_type": "code",
      "metadata": {
        "id": "p4ftt88vS9MF",
        "colab_type": "code",
        "colab": {
          "base_uri": "https://localhost:8080/",
          "height": 34
        },
        "outputId": "438e6941-e693-4185-ba82-9ff4c2454513"
      },
      "source": [
        "# Less than or equal to (<=) Operator\n",
        "print(a<=b)"
      ],
      "execution_count": 52,
      "outputs": [
        {
          "output_type": "stream",
          "text": [
            "False\n"
          ],
          "name": "stdout"
        }
      ]
    },
    {
      "cell_type": "markdown",
      "metadata": {
        "id": "wsIpPt3nTMP0",
        "colab_type": "text"
      },
      "source": [
        "# 4. Logical Operators:\n",
        "\n",
        "---\n",
        "\n",
        "Logical operators are used to combine conditional statements:\n"
      ]
    },
    {
      "cell_type": "code",
      "metadata": {
        "id": "XFXsd20hTcwP",
        "colab_type": "code",
        "colab": {}
      },
      "source": [
        "# Declare variables\n",
        "a=10\n",
        "b=50"
      ],
      "execution_count": 0,
      "outputs": []
    },
    {
      "cell_type": "code",
      "metadata": {
        "id": "glMCYXPCTCnx",
        "colab_type": "code",
        "colab": {
          "base_uri": "https://localhost:8080/",
          "height": 51
        },
        "outputId": "576169a2-dccb-498b-e787-5c15f91b8b21"
      },
      "source": [
        "# 'and' Operator : Returns True if both statements are true\n",
        "print(a and b)\n",
        "print(a < 5 and  b < 10)"
      ],
      "execution_count": 62,
      "outputs": [
        {
          "output_type": "stream",
          "text": [
            "50\n",
            "False\n"
          ],
          "name": "stdout"
        }
      ]
    },
    {
      "cell_type": "code",
      "metadata": {
        "id": "JEhvdOCfTimp",
        "colab_type": "code",
        "colab": {
          "base_uri": "https://localhost:8080/",
          "height": 51
        },
        "outputId": "18def955-f536-40b7-f081-900d6b26af81"
      },
      "source": [
        "# 'or' Operator : Returns True if one of the statements is true\n",
        "print(a or b)\n",
        "print(a < 5 or b < 4)"
      ],
      "execution_count": 63,
      "outputs": [
        {
          "output_type": "stream",
          "text": [
            "10\n",
            "False\n"
          ],
          "name": "stdout"
        }
      ]
    },
    {
      "cell_type": "code",
      "metadata": {
        "id": "5_PkPeiUTk05",
        "colab_type": "code",
        "colab": {
          "base_uri": "https://localhost:8080/",
          "height": 34
        },
        "outputId": "3feae1d1-7f88-430f-dbf8-5ae4a37c4ee1"
      },
      "source": [
        "# 'not' Operator: Reverse the result, returns False if the result is true\n",
        "print(not(a < 5 and b < 10))"
      ],
      "execution_count": 64,
      "outputs": [
        {
          "output_type": "stream",
          "text": [
            "True\n"
          ],
          "name": "stdout"
        }
      ]
    },
    {
      "cell_type": "markdown",
      "metadata": {
        "id": "qffvtMMHWJ_f",
        "colab_type": "text"
      },
      "source": [
        "# 5. Bitwise operators\n",
        "\n",
        "---\n",
        "\n",
        "\n",
        "Bitwise operators are used to compare (binary) numbers:"
      ]
    },
    {
      "cell_type": "code",
      "metadata": {
        "id": "h0IwnWgaWGbi",
        "colab_type": "code",
        "colab": {}
      },
      "source": [
        "# Declare variable\n",
        "a=10\n",
        "b=35"
      ],
      "execution_count": 0,
      "outputs": []
    },
    {
      "cell_type": "code",
      "metadata": {
        "id": "8Ik40oO0bdlt",
        "colab_type": "code",
        "colab": {
          "base_uri": "https://localhost:8080/",
          "height": 34
        },
        "outputId": "c8f45ea6-bea7-4200-9aef-63b96f59dfaf"
      },
      "source": [
        "# 'AND' (&) Operator : Sets each bit to 1 if both bits are 1\n",
        "print(a&b)"
      ],
      "execution_count": 67,
      "outputs": [
        {
          "output_type": "stream",
          "text": [
            "2\n"
          ],
          "name": "stdout"
        }
      ]
    },
    {
      "cell_type": "code",
      "metadata": {
        "id": "_pWam37-bdis",
        "colab_type": "code",
        "colab": {
          "base_uri": "https://localhost:8080/",
          "height": 34
        },
        "outputId": "3f2c2764-47f5-4637-a6cc-ee482d6ebb5e"
      },
      "source": [
        "# 'OR' (|) Operator: Sets each bit to 1 if one of two bits is 1\n",
        "print(a|b)"
      ],
      "execution_count": 68,
      "outputs": [
        {
          "output_type": "stream",
          "text": [
            "43\n"
          ],
          "name": "stdout"
        }
      ]
    },
    {
      "cell_type": "code",
      "metadata": {
        "id": "FTzZVbX4bde8",
        "colab_type": "code",
        "colab": {
          "base_uri": "https://localhost:8080/",
          "height": 34
        },
        "outputId": "32aabf04-585c-4035-a58d-a49711a33410"
      },
      "source": [
        "# 'XOR' (^) Operator: Sets each bit to 1 if only one of two bits is 1\n",
        "print(a^b)"
      ],
      "execution_count": 69,
      "outputs": [
        {
          "output_type": "stream",
          "text": [
            "41\n"
          ],
          "name": "stdout"
        }
      ]
    },
    {
      "cell_type": "code",
      "metadata": {
        "id": "mNv8MsynbdbR",
        "colab_type": "code",
        "colab": {
          "base_uri": "https://localhost:8080/",
          "height": 34
        },
        "outputId": "0ee91f41-385f-44c9-f42f-fdfac6f31665"
      },
      "source": [
        "# 'NOT' (~) Operator: Inverts all the bits\n",
        "print(~a)"
      ],
      "execution_count": 70,
      "outputs": [
        {
          "output_type": "stream",
          "text": [
            "-11\n"
          ],
          "name": "stdout"
        }
      ]
    },
    {
      "cell_type": "code",
      "metadata": {
        "id": "ceuzWuYZbdX_",
        "colab_type": "code",
        "colab": {
          "base_uri": "https://localhost:8080/",
          "height": 34
        },
        "outputId": "a5240d85-dd8e-40e7-8f6f-755213fa98a2"
      },
      "source": [
        "# 'Zero fill left shift' (<<): Shift left by pushing zeros in from the right and let the leftmost bits fall off\n",
        "print(a<<2)"
      ],
      "execution_count": 71,
      "outputs": [
        {
          "output_type": "stream",
          "text": [
            "40\n"
          ],
          "name": "stdout"
        }
      ]
    },
    {
      "cell_type": "code",
      "metadata": {
        "id": "GnKYjXakbkvP",
        "colab_type": "code",
        "colab": {
          "base_uri": "https://localhost:8080/",
          "height": 34
        },
        "outputId": "1ef84dae-3e48-45ab-8d9c-898f33056a66"
      },
      "source": [
        "# 'Signed right shift' (>>) : Shift right by pushing copies of the leftmost bit in from the left, and let the rightmost bits fall off\n",
        "print(a>>b)"
      ],
      "execution_count": 72,
      "outputs": [
        {
          "output_type": "stream",
          "text": [
            "0\n"
          ],
          "name": "stdout"
        }
      ]
    },
    {
      "cell_type": "markdown",
      "metadata": {
        "id": "IFDqBkHEVOqK",
        "colab_type": "text"
      },
      "source": [
        "# 6. Identity Operators\n",
        "\n",
        "---\n",
        "Identity operators are used to compare the objects, not if they are equal, but if they are actually the same object, with the same memory location:"
      ]
    },
    {
      "cell_type": "code",
      "metadata": {
        "id": "GzJmbGebTlNp",
        "colab_type": "code",
        "colab": {
          "base_uri": "https://localhost:8080/",
          "height": 34
        },
        "outputId": "617f4f25-e0bb-431b-f946-5c11171772c0"
      },
      "source": [
        "# 'is' Operator : Returns true if both variables are the same object\n",
        "#Identity Operators\n",
        "\n",
        "a=[1,3,5,7,'Python']\n",
        "a=b\n",
        "print(b is a)"
      ],
      "execution_count": 73,
      "outputs": [
        {
          "output_type": "stream",
          "text": [
            "True\n"
          ],
          "name": "stdout"
        }
      ]
    },
    {
      "cell_type": "code",
      "metadata": {
        "id": "_irfm75mcfY4",
        "colab_type": "code",
        "colab": {
          "base_uri": "https://localhost:8080/",
          "height": 34
        },
        "outputId": "c2cd8fbf-fe6e-43f2-bd3c-199a859cc74d"
      },
      "source": [
        "# 'is not' Operator: Returns true if both variables are not the same object\n",
        "print(a is not b)"
      ],
      "execution_count": 74,
      "outputs": [
        {
          "output_type": "stream",
          "text": [
            "False\n"
          ],
          "name": "stdout"
        }
      ]
    },
    {
      "cell_type": "markdown",
      "metadata": {
        "id": "4oQ4H7XNcnze",
        "colab_type": "text"
      },
      "source": [
        "# 7. Membership Operators\n",
        "\n",
        "---\n",
        "\n",
        "Membership operators are used to test if a sequence is presented in an object:"
      ]
    },
    {
      "cell_type": "code",
      "metadata": {
        "id": "0Tf2_ezacluy",
        "colab_type": "code",
        "colab": {
          "base_uri": "https://localhost:8080/",
          "height": 34
        },
        "outputId": "2cc6c4f0-b0c0-4440-a546-8fe85e1a75a6"
      },
      "source": [
        "# 'in' Operator: Returns True if a sequence with the specified value is present in the object\n",
        "list1=[1,10,100,\"Data Science\"]\n",
        "print(30 in list1)"
      ],
      "execution_count": 77,
      "outputs": [
        {
          "output_type": "stream",
          "text": [
            "False\n"
          ],
          "name": "stdout"
        }
      ]
    },
    {
      "cell_type": "code",
      "metadata": {
        "id": "AM07m9ZncwnB",
        "colab_type": "code",
        "colab": {
          "base_uri": "https://localhost:8080/",
          "height": 34
        },
        "outputId": "2423bcf4-f0b4-4f3b-fbc9-ff0385b9b8fb"
      },
      "source": [
        "# 'not in' Operator: Returns True if a sequence with the specified value is not present in the object\n",
        "print(20 not in list1)"
      ],
      "execution_count": 78,
      "outputs": [
        {
          "output_type": "stream",
          "text": [
            "True\n"
          ],
          "name": "stdout"
        }
      ]
    }
  ]
}
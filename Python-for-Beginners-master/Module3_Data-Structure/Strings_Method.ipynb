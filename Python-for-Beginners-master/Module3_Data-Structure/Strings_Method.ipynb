{
  "nbformat": 4,
  "nbformat_minor": 0,
  "metadata": {
    "colab": {
      "name": "Strings_Method.ipynb",
      "version": "0.3.2",
      "provenance": [],
      "collapsed_sections": []
    },
    "kernelspec": {
      "name": "python3",
      "display_name": "Python 3"
    }
  },
  "cells": [
    {
      "cell_type": "markdown",
      "metadata": {
        "id": "BtHnuQrR1rc-",
        "colab_type": "text"
      },
      "source": [
        "**Hello World Program in Python**\n",
        "\n",
        "---"
      ]
    },
    {
      "cell_type": "code",
      "metadata": {
        "id": "A7mvStY22HUs",
        "colab_type": "code",
        "outputId": "2d877e97-b0fd-4bfe-deb0-12bd43fbabad",
        "colab": {
          "base_uri": "https://localhost:8080/",
          "height": 34
        }
      },
      "source": [
        "print (\"Hello World!!\")"
      ],
      "execution_count": 0,
      "outputs": [
        {
          "output_type": "stream",
          "text": [
            "Hello World!!\n"
          ],
          "name": "stdout"
        }
      ]
    },
    {
      "cell_type": "code",
      "metadata": {
        "id": "q9rJcSXhv6wo",
        "colab_type": "code",
        "outputId": "eef3c397-76a9-4362-8b6d-f9d96149e60f",
        "colab": {
          "base_uri": "https://localhost:8080/",
          "height": 34
        }
      },
      "source": [
        "a = \"Hello World!!\"\n",
        "print(a)"
      ],
      "execution_count": 0,
      "outputs": [
        {
          "output_type": "stream",
          "text": [
            "Hello World!!\n"
          ],
          "name": "stdout"
        }
      ]
    },
    {
      "cell_type": "markdown",
      "metadata": {
        "id": "EAKO0ChY2TXp",
        "colab_type": "text"
      },
      "source": [
        "**String**\n",
        "- combination of characters within the single or double quotes\n",
        " or it's a contiues series of characters surrounded by single or double quotes \n",
        " \n",
        " ['hello' is the same as hello\"]\n",
        "\n",
        "---"
      ]
    },
    {
      "cell_type": "code",
      "metadata": {
        "id": "xLpQAE_73MKo",
        "colab_type": "code",
        "outputId": "3c6aa9e3-aae3-4d5a-d2b2-aec3fda4e117",
        "colab": {
          "base_uri": "https://localhost:8080/",
          "height": 51
        }
      },
      "source": [
        "a = \"Hello World!!\"\n",
        "print(a)\n",
        "\n",
        "print(type(a))"
      ],
      "execution_count": 0,
      "outputs": [
        {
          "output_type": "stream",
          "text": [
            "Hello World!!\n",
            "<class 'str'>\n"
          ],
          "name": "stdout"
        }
      ]
    },
    {
      "cell_type": "markdown",
      "metadata": {
        "id": "Y2eeG7CG3l92",
        "colab_type": "text"
      },
      "source": [
        "**Index() Method**\n",
        "\n",
        "The syntax of index() method for string is: str.index(sub[, start[, end]]). Indexing in string ( it start from 0 to n-1). \n",
        "\n",
        " Square brackets [ ] can be used to access elements of the string\n",
        "\n",
        "---"
      ]
    },
    {
      "cell_type": "code",
      "metadata": {
        "id": "2pr4iAsN3OF2",
        "colab_type": "code",
        "outputId": "d11337ae-3308-4abe-f570-c72b61090414",
        "colab": {
          "base_uri": "https://localhost:8080/",
          "height": 51
        }
      },
      "source": [
        "a = \"Hello World\"\n",
        "\n",
        "print(a.index(\"e\"))\n",
        "print(a.index(\"World\"))"
      ],
      "execution_count": 0,
      "outputs": [
        {
          "output_type": "stream",
          "text": [
            "1\n",
            "6\n"
          ],
          "name": "stdout"
        }
      ]
    },
    {
      "cell_type": "markdown",
      "metadata": {
        "id": "w0AhltkRD8Hn",
        "colab_type": "text"
      },
      "source": [
        "The **find() method** finds the first occurrence of the specified value.\n",
        "\n",
        "---"
      ]
    },
    {
      "cell_type": "code",
      "metadata": {
        "id": "mj0NDuoNEGAa",
        "colab_type": "code",
        "outputId": "93d67cea-3c20-49c3-ac1f-4687e1ae73cb",
        "colab": {
          "base_uri": "https://localhost:8080/",
          "height": 34
        }
      },
      "source": [
        "a = \"Hello World!\"\n",
        "print(a.find(\"e\"))"
      ],
      "execution_count": 0,
      "outputs": [
        {
          "output_type": "stream",
          "text": [
            "1\n"
          ],
          "name": "stdout"
        }
      ]
    },
    {
      "cell_type": "markdown",
      "metadata": {
        "id": "1hgEoHBr_KG4",
        "colab_type": "text"
      },
      "source": [
        "**Substring**. Get the characters from position 2 to position 5 (not included):\n",
        "\n",
        "---"
      ]
    },
    {
      "cell_type": "code",
      "metadata": {
        "id": "VBaPPaVU_ueo",
        "colab_type": "code",
        "outputId": "37ecc8fe-cb9a-4a5a-99e2-16162320a8dd",
        "colab": {
          "base_uri": "https://localhost:8080/",
          "height": 51
        }
      },
      "source": [
        "a = \"Hello World\"\n",
        "\n",
        "print(a[1])\n",
        "print(a[2:5])"
      ],
      "execution_count": 0,
      "outputs": [
        {
          "output_type": "stream",
          "text": [
            "e\n",
            "llo\n"
          ],
          "name": "stdout"
        }
      ]
    },
    {
      "cell_type": "markdown",
      "metadata": {
        "id": "JFWnrWIS__0s",
        "colab_type": "text"
      },
      "source": [
        "The **strip() method** removes any whitespace from the beginning or the end:\n",
        "\n",
        "---"
      ]
    },
    {
      "cell_type": "code",
      "metadata": {
        "id": "3QbFb_1_AF-A",
        "colab_type": "code",
        "outputId": "4411f45a-6119-483c-9fb0-ea5ca804b758",
        "colab": {
          "base_uri": "https://localhost:8080/",
          "height": 34
        }
      },
      "source": [
        "a = \" Hello World ! \"\n",
        "print(a.strip())"
      ],
      "execution_count": 0,
      "outputs": [
        {
          "output_type": "stream",
          "text": [
            "Hello World !\n"
          ],
          "name": "stdout"
        }
      ]
    },
    {
      "cell_type": "markdown",
      "metadata": {
        "id": "2I_YS-nYAsCz",
        "colab_type": "text"
      },
      "source": [
        "The **len() method** returns the length of a string:\n",
        "\n",
        "---"
      ]
    },
    {
      "cell_type": "code",
      "metadata": {
        "id": "wHyLTjoNA1mb",
        "colab_type": "code",
        "outputId": "80b43381-7d6c-4b57-e973-9a8ddc2769d3",
        "colab": {
          "base_uri": "https://localhost:8080/",
          "height": 34
        }
      },
      "source": [
        "a = \"Hello World !\"\n",
        "print(len(a))"
      ],
      "execution_count": 0,
      "outputs": [
        {
          "output_type": "stream",
          "text": [
            "13\n"
          ],
          "name": "stdout"
        }
      ]
    },
    {
      "cell_type": "markdown",
      "metadata": {
        "id": "h4t8AUy0BBAl",
        "colab_type": "text"
      },
      "source": [
        "The **lower() method** returns the string in lower case:\n",
        "\n",
        "---"
      ]
    },
    {
      "cell_type": "code",
      "metadata": {
        "id": "DJb4bthLBDme",
        "colab_type": "code",
        "outputId": "391c25b3-d05e-45d7-9a3b-271e8daa6a04",
        "colab": {
          "base_uri": "https://localhost:8080/",
          "height": 34
        }
      },
      "source": [
        "a = \"Hello World !\"\n",
        "print(a.lower())"
      ],
      "execution_count": 0,
      "outputs": [
        {
          "output_type": "stream",
          "text": [
            "hello world !\n"
          ],
          "name": "stdout"
        }
      ]
    },
    {
      "cell_type": "markdown",
      "metadata": {
        "id": "J5dgCbVuBZB2",
        "colab_type": "text"
      },
      "source": [
        "The **upper() method** returns the string in upper case:\n",
        "\n",
        "---\n",
        "\n"
      ]
    },
    {
      "cell_type": "code",
      "metadata": {
        "id": "DaN6hK2GBdre",
        "colab_type": "code",
        "outputId": "07b1a12f-429b-4ae8-f725-f058f887343f",
        "colab": {
          "base_uri": "https://localhost:8080/",
          "height": 34
        }
      },
      "source": [
        "a = \"Hello World !\"\n",
        "print(a.upper())"
      ],
      "execution_count": 0,
      "outputs": [
        {
          "output_type": "stream",
          "text": [
            "HELLO WORLD !\n"
          ],
          "name": "stdout"
        }
      ]
    },
    {
      "cell_type": "markdown",
      "metadata": {
        "id": "vr6MukQhBq0C",
        "colab_type": "text"
      },
      "source": [
        "The **replace() method** replaces a string with another string:\n",
        "\n",
        "---"
      ]
    },
    {
      "cell_type": "code",
      "metadata": {
        "id": "sjVXnpY4Bwj5",
        "colab_type": "code",
        "outputId": "4ce3fd36-55c4-48a0-8bab-75479e3d0942",
        "colab": {
          "base_uri": "https://localhost:8080/",
          "height": 34
        }
      },
      "source": [
        "a = \"Hello World !\"\n",
        "print(a.replace(\"H\",'J'))"
      ],
      "execution_count": 0,
      "outputs": [
        {
          "output_type": "stream",
          "text": [
            "Jello World !\n"
          ],
          "name": "stdout"
        }
      ]
    },
    {
      "cell_type": "markdown",
      "metadata": {
        "id": "HADc9B5ACHTV",
        "colab_type": "text"
      },
      "source": [
        "The **split() method** splits the string into substrings if it finds instances of the separator:\n",
        "\n",
        "---"
      ]
    },
    {
      "cell_type": "code",
      "metadata": {
        "id": "pFi9IgKYCMEY",
        "colab_type": "code",
        "outputId": "7c9ec8ed-e216-4f91-9be4-d7cd5836dc6a",
        "colab": {
          "base_uri": "https://localhost:8080/",
          "height": 34
        }
      },
      "source": [
        "a = \"Hello World!\"\n",
        "print(a.split())"
      ],
      "execution_count": 0,
      "outputs": [
        {
          "output_type": "stream",
          "text": [
            "['Hello', 'World!']\n"
          ],
          "name": "stdout"
        }
      ]
    },
    {
      "cell_type": "markdown",
      "metadata": {
        "id": "D6YDNPVIDmo4",
        "colab_type": "text"
      },
      "source": [
        "The **join() method** takes all items in an iterable and joins them into one string.\n",
        "\n",
        "\n",
        "A string must be specified as the separator.\n",
        "\n",
        "---"
      ]
    },
    {
      "cell_type": "code",
      "metadata": {
        "id": "2Nn0UklnFb_R",
        "colab_type": "code",
        "outputId": "9a5d9ecb-1bda-4c70-e0b3-e877b0d678ba",
        "colab": {
          "base_uri": "https://localhost:8080/",
          "height": 34
        }
      },
      "source": [
        "myTuple = (\"John\", \"Peter\", \"Vicky\")\n",
        "\n",
        "x = \"#\".join(myTuple)\n",
        "\n",
        "print(x)"
      ],
      "execution_count": 0,
      "outputs": [
        {
          "output_type": "stream",
          "text": [
            "John#Peter#Vicky\n"
          ],
          "name": "stdout"
        }
      ]
    },
    {
      "cell_type": "markdown",
      "metadata": {
        "id": "-sMLg_8PGcdQ",
        "colab_type": "text"
      },
      "source": [
        "The **partition() method** searches for a specified string, and splits the string into a tuple containing three elements.\n",
        "\n",
        "---"
      ]
    },
    {
      "cell_type": "code",
      "metadata": {
        "id": "xcuu5fsuGg6X",
        "colab_type": "code",
        "outputId": "450d9b0e-de8b-462a-bc34-44cfa3db15e2",
        "colab": {
          "base_uri": "https://localhost:8080/",
          "height": 34
        }
      },
      "source": [
        "txt = \"I could eat bananas all day\"\n",
        "\n",
        "x = txt.partition(\"bananas\")\n",
        "\n",
        "print(x)"
      ],
      "execution_count": 0,
      "outputs": [
        {
          "output_type": "stream",
          "text": [
            "('I could eat ', 'bananas', ' all day')\n"
          ],
          "name": "stdout"
        }
      ]
    },
    {
      "cell_type": "markdown",
      "metadata": {
        "id": "ZKi8z5DUFndb",
        "colab_type": "text"
      },
      "source": [
        "**String Formatting**\n",
        "\n",
        "Python uses C-style string formatting to create new, formatted strings. The \"%\" operator is used to format a set of variables enclosed in a \"tuple\" (a fixed size list), together with a format string, which contains normal text together with \"argument specifiers\", special symbols like \"%s\" and \"%d\".\n",
        "\n",
        "Let's say you have a variable called \"name\" with your user name in it, and you would then like to print(out a greeting to that user.)\n",
        "\n",
        "---\n",
        "\n",
        "**Example**:  This prints out \"Hello, John!\""
      ]
    },
    {
      "cell_type": "code",
      "metadata": {
        "id": "Y9Yl6QzKGUyr",
        "colab_type": "code",
        "outputId": "2be92f0a-611b-4869-b2b3-264706f2e8cc",
        "colab": {
          "base_uri": "https://localhost:8080/",
          "height": 34
        }
      },
      "source": [
        "name = \"John\"\n",
        "print(\"Hello, %s!\" % name)"
      ],
      "execution_count": 0,
      "outputs": [
        {
          "output_type": "stream",
          "text": [
            "Hello, John!\n"
          ],
          "name": "stdout"
        }
      ]
    },
    {
      "cell_type": "markdown",
      "metadata": {
        "id": "9Jc4LzTQGlY4",
        "colab_type": "text"
      },
      "source": [
        "**Example ** : \"This prints out \"John is 23 years old.\"\n",
        "\n",
        "---\n",
        "\n"
      ]
    },
    {
      "cell_type": "code",
      "metadata": {
        "id": "kHbLYwltGcpe",
        "colab_type": "code",
        "outputId": "b2be6c00-3e22-4d07-d584-1d5c2c46c929",
        "colab": {
          "base_uri": "https://localhost:8080/",
          "height": 34
        }
      },
      "source": [
        "name = \"John\"\n",
        "age = 23\n",
        "print(\"%s is %d years old.\" % (name, age))"
      ],
      "execution_count": 0,
      "outputs": [
        {
          "output_type": "stream",
          "text": [
            "John is 23 years old.\n"
          ],
          "name": "stdout"
        }
      ]
    },
    {
      "cell_type": "markdown",
      "metadata": {
        "id": "ykltdVFWG0e4",
        "colab_type": "text"
      },
      "source": [
        "Any object which is not a string can be formatted using the %s operator as well. The string which returns from the \"repr\" method of that object is formatted as the string. \n",
        "\n",
        "---\n",
        "\n",
        "\n",
        "For example:"
      ]
    },
    {
      "cell_type": "code",
      "metadata": {
        "id": "51SvgtLlG3ON",
        "colab_type": "code",
        "outputId": "e5aca60b-a25c-45c2-f241-4d8c5775b94a",
        "colab": {
          "base_uri": "https://localhost:8080/",
          "height": 34
        }
      },
      "source": [
        "mylist = [1,2,3]\n",
        "print(\"A list: %s\" % mylist)"
      ],
      "execution_count": 0,
      "outputs": [
        {
          "output_type": "stream",
          "text": [
            "A list: [1, 2, 3]\n"
          ],
          "name": "stdout"
        }
      ]
    },
    {
      "cell_type": "markdown",
      "metadata": {
        "id": "FOQ07DpAHBHu",
        "colab_type": "text"
      },
      "source": [
        "**Here are some basic argument specifiers you should know:**\n",
        "\n",
        "---\n",
        "\n",
        "\n",
        "\n",
        "**%s** - String (or any object with a string representation, like numbers)\n",
        "\n",
        "**%d** - Integers\n",
        "\n",
        "**%f** - Floating point numbers\n",
        "\n",
        "**%.<number of digits>f** - Floating point numbers with a fixed amount of digits to the right of the dot.\n",
        "\n",
        "**%x/%X -** Integers in hex representation (lowercase/uppercase)"
      ]
    }
  ]
}
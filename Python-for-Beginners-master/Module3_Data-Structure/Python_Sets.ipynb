{
  "nbformat": 4,
  "nbformat_minor": 0,
  "metadata": {
    "colab": {
      "name": "Python_Sets.ipynb",
      "version": "0.3.2",
      "provenance": [],
      "collapsed_sections": []
    },
    "kernelspec": {
      "name": "python3",
      "display_name": "Python 3"
    }
  },
  "cells": [
    {
      "cell_type": "markdown",
      "metadata": {
        "id": "uWs0hLzaW5TD",
        "colab_type": "text"
      },
      "source": [
        "# Set\n",
        "\n",
        "A set is a collection which is unordered and unindexed. In Python sets are written with curly brackets { }\n",
        "\n",
        "---\n",
        "\n",
        "**Note: Sets are unordered, so the items will appear in a random order.**"
      ]
    },
    {
      "cell_type": "code",
      "metadata": {
        "id": "bp6HXuoVWz6p",
        "colab_type": "code",
        "outputId": "6cfaf583-d6c4-48bb-e2dc-a80797411090",
        "colab": {
          "base_uri": "https://localhost:8080/",
          "height": 34
        }
      },
      "source": [
        "#Create a Set:\n",
        "\n",
        "thisset = {\"apple\", \"banana\", \"cherry\",\"cherry\"}\n",
        "print(thisset)"
      ],
      "execution_count": 0,
      "outputs": [
        {
          "output_type": "stream",
          "text": [
            "{'banana', 'cherry', 'apple'}\n"
          ],
          "name": "stdout"
        }
      ]
    },
    {
      "cell_type": "markdown",
      "metadata": {
        "id": "t1304WjqXnL4",
        "colab_type": "text"
      },
      "source": [
        "**Access Items**\n",
        "\n",
        "You cannot access items in a set by referring to an index, since sets are unordered the items has no index.\n",
        "\n",
        "But you can loop through the set items using a for loop, or ask if a specified value is present in a set, by using the in keyword.\n",
        "\n",
        "---\n",
        "\n"
      ]
    },
    {
      "cell_type": "code",
      "metadata": {
        "id": "G9cUv9c5Xqf-",
        "colab_type": "code",
        "outputId": "68666c50-b628-44d5-cbbf-e5c2f9fe2e49",
        "colab": {
          "base_uri": "https://localhost:8080/",
          "height": 68
        }
      },
      "source": [
        "#Loop through the set, and print the values:\n",
        "\n",
        "thisset = {\"apple\", \"banana\", \"cherry\"}\n",
        "\n",
        "for x in thisset:\n",
        "  print(x)"
      ],
      "execution_count": 0,
      "outputs": [
        {
          "output_type": "stream",
          "text": [
            "banana\n",
            "cherry\n",
            "apple\n"
          ],
          "name": "stdout"
        }
      ]
    },
    {
      "cell_type": "markdown",
      "metadata": {
        "id": "alJe214-X1Oe",
        "colab_type": "text"
      },
      "source": [
        "Check if \"banana\" is present in the set:"
      ]
    },
    {
      "cell_type": "code",
      "metadata": {
        "id": "0U8eH3qSX4iz",
        "colab_type": "code",
        "outputId": "d8b1698c-fcb4-41b5-bc18-a3e911efedc2",
        "colab": {
          "base_uri": "https://localhost:8080/",
          "height": 34
        }
      },
      "source": [
        "thisset = {\"apple\", \"banana\", \"cherry\"}\n",
        "if \"banana\" in thisset:\n",
        "  print(\"Yes, Banana is in this set\")"
      ],
      "execution_count": 0,
      "outputs": [
        {
          "output_type": "stream",
          "text": [
            "Yes, Banana is in this set\n"
          ],
          "name": "stdout"
        }
      ]
    },
    {
      "cell_type": "markdown",
      "metadata": {
        "id": "0XFnkv3zYEYT",
        "colab_type": "text"
      },
      "source": [
        "**Change Items**\n",
        "\n",
        "Once a set is created, you cannot change its items becuase it unorder and unindexed, but you can add new items.\n",
        "\n",
        "---\n",
        "\n",
        "\n",
        "\n"
      ]
    },
    {
      "cell_type": "markdown",
      "metadata": {
        "id": "rTCh1BFuYf7m",
        "colab_type": "text"
      },
      "source": [
        "**Add Items**\n",
        "\n",
        "To add one item to a set use the **add() method.**\n",
        "\n",
        "---\n",
        "\n"
      ]
    },
    {
      "cell_type": "code",
      "metadata": {
        "id": "zMoe3OwbYI5p",
        "colab_type": "code",
        "outputId": "346b8284-3ad3-4938-bba8-2120fb09595d",
        "colab": {
          "base_uri": "https://localhost:8080/",
          "height": 34
        }
      },
      "source": [
        "thisset = {\"apple\", \"banana\", \"cherry\"}\n",
        "thisset.add(\"orange\")\n",
        "print(thisset)"
      ],
      "execution_count": 0,
      "outputs": [
        {
          "output_type": "stream",
          "text": [
            "{'banana', 'cherry', 'orange', 'apple'}\n"
          ],
          "name": "stdout"
        }
      ]
    },
    {
      "cell_type": "markdown",
      "metadata": {
        "id": "Y5XCQEONYymq",
        "colab_type": "text"
      },
      "source": [
        "To add more than one item to a set use the **update() method**."
      ]
    },
    {
      "cell_type": "code",
      "metadata": {
        "id": "7e1oRfohY5Y1",
        "colab_type": "code",
        "outputId": "18851e6c-a340-4d72-970b-abf40a3429af",
        "colab": {
          "base_uri": "https://localhost:8080/",
          "height": 34
        }
      },
      "source": [
        "thisset = {\"apple\", \"banana\", \"cherry\"}\n",
        "\n",
        "thisset.update([\"orange\", \"mango\", \"grapes\"])\n",
        "\n",
        "print(thisset)"
      ],
      "execution_count": 0,
      "outputs": [
        {
          "output_type": "stream",
          "text": [
            "{'grapes', 'orange', 'cherry', 'apple', 'mango', 'banana'}\n"
          ],
          "name": "stdout"
        }
      ]
    },
    {
      "cell_type": "markdown",
      "metadata": {
        "id": "fzoaZhTRZDJO",
        "colab_type": "text"
      },
      "source": [
        "**Get the Length of a Set**\n",
        "\n",
        "To determine how many items a set has, use the **len() method.**\n",
        "\n",
        "---\n",
        "\n"
      ]
    },
    {
      "cell_type": "code",
      "metadata": {
        "id": "igtmfQ6LZGSH",
        "colab_type": "code",
        "outputId": "4cf6ca0f-a347-4a92-dfcd-5d2e087dafbe",
        "colab": {
          "base_uri": "https://localhost:8080/",
          "height": 34
        }
      },
      "source": [
        "thisset = {\"apple\", \"banana\", \"cherry\"}\n",
        "\n",
        "print(len(thisset))"
      ],
      "execution_count": 0,
      "outputs": [
        {
          "output_type": "stream",
          "text": [
            "3\n"
          ],
          "name": "stdout"
        }
      ]
    },
    {
      "cell_type": "markdown",
      "metadata": {
        "id": "jKj4Gzx7ZMGE",
        "colab_type": "text"
      },
      "source": [
        "**Remove Item**\n",
        "\n",
        "To remove an item in a set, use the **remove()**, or the **discard() method**.\n",
        "\n",
        "---\n",
        "\n",
        "Note: If the item to remove does not exist, **remove() **will raise an error."
      ]
    },
    {
      "cell_type": "code",
      "metadata": {
        "id": "KcgOjas3ZUFa",
        "colab_type": "code",
        "outputId": "b45df9ac-6553-4a8d-b423-d01ac24ce4e9",
        "colab": {
          "base_uri": "https://localhost:8080/",
          "height": 34
        }
      },
      "source": [
        "thisset = {\"apple\", \"banana\", \"cherry\"}\n",
        "\n",
        "thisset.remove(\"apple\")\n",
        "\n",
        "print(thisset)"
      ],
      "execution_count": 0,
      "outputs": [
        {
          "output_type": "stream",
          "text": [
            "{'banana', 'cherry'}\n"
          ],
          "name": "stdout"
        }
      ]
    },
    {
      "cell_type": "markdown",
      "metadata": {
        "id": "jZfZWJ_9Z7_X",
        "colab_type": "text"
      },
      "source": [
        "Note: If the item to remove does not exist, **discard() **will NOT raise an error."
      ]
    },
    {
      "cell_type": "code",
      "metadata": {
        "id": "SHmRr3gPZdmS",
        "colab_type": "code",
        "outputId": "2017fd8d-7b81-45cd-bd39-d45ded43959d",
        "colab": {
          "base_uri": "https://localhost:8080/",
          "height": 34
        }
      },
      "source": [
        "thisset = {\"apple\", \"banana\", \"cherry\"}\n",
        "\n",
        "thisset.discard(\"apple\")\n",
        "\n",
        "print(thisset)"
      ],
      "execution_count": 0,
      "outputs": [
        {
          "output_type": "stream",
          "text": [
            "{'banana', 'cherry'}\n"
          ],
          "name": "stdout"
        }
      ]
    },
    {
      "cell_type": "markdown",
      "metadata": {
        "id": "lQ_AfySPaMiW",
        "colab_type": "text"
      },
      "source": [
        "You can also use the **pop(), method** to remove an item, but this method will remove the last item. Remember that sets are unordered, so you will not know what item that gets removed.\n",
        "\n",
        "The return value of the **pop() method** is the removed item."
      ]
    },
    {
      "cell_type": "code",
      "metadata": {
        "id": "pxgm1hxpaNpY",
        "colab_type": "code",
        "outputId": "2504592c-0b1f-4273-b014-a144dfed0f61",
        "colab": {
          "base_uri": "https://localhost:8080/",
          "height": 51
        }
      },
      "source": [
        "thisset = {\"apple\", \"banana\", \"cherry\"}\n",
        "\n",
        "x = thisset.pop()\n",
        "\n",
        "print(x)\n",
        "\n",
        "print(thisset)"
      ],
      "execution_count": 0,
      "outputs": [
        {
          "output_type": "stream",
          "text": [
            "banana\n",
            "{'cherry', 'apple'}\n"
          ],
          "name": "stdout"
        }
      ]
    },
    {
      "cell_type": "markdown",
      "metadata": {
        "id": "-BhDMD2oaYVP",
        "colab_type": "text"
      },
      "source": [
        "The **clear() method** empties the set:\n",
        "\n",
        "---\n",
        "\n",
        "\n"
      ]
    },
    {
      "cell_type": "code",
      "metadata": {
        "id": "5rHSztD4au2U",
        "colab_type": "code",
        "outputId": "38f9852e-133e-4843-ebed-5d569c1dc174",
        "colab": {
          "base_uri": "https://localhost:8080/",
          "height": 34
        }
      },
      "source": [
        "thisset = {\"apple\", \"banana\", \"cherry\"}\n",
        "\n",
        "thisset.clear()\n",
        "\n",
        "print(thisset)"
      ],
      "execution_count": 0,
      "outputs": [
        {
          "output_type": "stream",
          "text": [
            "set()\n"
          ],
          "name": "stdout"
        }
      ]
    },
    {
      "cell_type": "markdown",
      "metadata": {
        "id": "sJcwLK7Ga7X3",
        "colab_type": "text"
      },
      "source": [
        "The **del keyword** will delete the set completely:\n",
        "\n",
        "---\n",
        "\n"
      ]
    },
    {
      "cell_type": "code",
      "metadata": {
        "id": "bwwgwtpka-j3",
        "colab_type": "code",
        "outputId": "2e55ef9b-cc30-4e60-d689-892a213ef24a",
        "colab": {
          "base_uri": "https://localhost:8080/",
          "height": 197
        }
      },
      "source": [
        "thisset = {\"apple\", \"banana\", \"cherry\"}\n",
        "\n",
        "del thisset\n",
        "\n",
        "print(thisset)"
      ],
      "execution_count": 0,
      "outputs": [
        {
          "output_type": "error",
          "ename": "NameError",
          "evalue": "ignored",
          "traceback": [
            "\u001b[0;31m---------------------------------------------------------------------------\u001b[0m",
            "\u001b[0;31mNameError\u001b[0m                                 Traceback (most recent call last)",
            "\u001b[0;32m<ipython-input-13-b0ed94c1bb6f>\u001b[0m in \u001b[0;36m<module>\u001b[0;34m()\u001b[0m\n\u001b[1;32m      3\u001b[0m \u001b[0;32mdel\u001b[0m \u001b[0mthisset\u001b[0m\u001b[0;34m\u001b[0m\u001b[0;34m\u001b[0m\u001b[0m\n\u001b[1;32m      4\u001b[0m \u001b[0;34m\u001b[0m\u001b[0m\n\u001b[0;32m----> 5\u001b[0;31m \u001b[0mprint\u001b[0m\u001b[0;34m(\u001b[0m\u001b[0mthisset\u001b[0m\u001b[0;34m)\u001b[0m\u001b[0;34m\u001b[0m\u001b[0;34m\u001b[0m\u001b[0m\n\u001b[0m",
            "\u001b[0;31mNameError\u001b[0m: name 'thisset' is not defined"
          ]
        }
      ]
    },
    {
      "cell_type": "markdown",
      "metadata": {
        "id": "jQGvmWwFbD7O",
        "colab_type": "text"
      },
      "source": [
        "**The set() Constructor**\n",
        "\n",
        "It is also possible to use the set() constructor to make a set."
      ]
    },
    {
      "cell_type": "code",
      "metadata": {
        "id": "3a8NnhqybGYV",
        "colab_type": "code",
        "outputId": "40278371-f721-4643-8ebc-b27e71a07da6",
        "colab": {
          "base_uri": "https://localhost:8080/",
          "height": 34
        }
      },
      "source": [
        "thisset = set((\"apple\", \"banana\", \"cherry\")) # note the double round-brackets\n",
        "print(thisset)"
      ],
      "execution_count": 0,
      "outputs": [
        {
          "output_type": "stream",
          "text": [
            "{'banana', 'cherry', 'apple'}\n"
          ],
          "name": "stdout"
        }
      ]
    },
    {
      "cell_type": "markdown",
      "metadata": {
        "id": "zEUDBND_bNRK",
        "colab_type": "text"
      },
      "source": [
        "#Set Methods\n",
        "\n",
        "---\n",
        "\n",
        "\n",
        "\n",
        "**Method**\t: **Description**\n",
        "\n",
        "**add()** :\tAdds an element to the set\n",
        "\n",
        "**clear()** :\tRemoves all the elements from the set\n",
        "\n",
        "**copy()**\t: Returns a copy of the set\n",
        "\n",
        "**difference()**\t: Returns a set containing the difference between two or more sets\n",
        "\n",
        "**difference_update()**\t: Removes the items in this set that are also included in another, specified set\n",
        "\n",
        "**discard()**\t: Remove the specified item\n",
        "\n",
        "**intersection()**\t: Returns a set, that is the intersection of two other sets\n",
        "\n",
        "**intersection_update()**\t: Removes the items in this set that are not present in other, specified set(s)\n",
        "\n",
        "**isdisjoint()**\t: Returns whether two sets have a intersection or not\n",
        "\n",
        "**issubset()**\t: Returns whether another set contains this set or not\n",
        "\n",
        "**issuperset()** :\tReturns whether this set contains another set or not\n",
        "\n",
        "**pop()** :\tRemoves an element from the set\n",
        "\n",
        "**remove()** :\tRemoves the specified element\n",
        "\n",
        "**symmetric_difference()** :\tReturns a set with the symmetric differences of two sets\n",
        "\n",
        "**symmetric_difference_update()** :\tinserts the symmetric differences from this set and another\n",
        "\n",
        "**union()** :\tReturn a set containing the union of sets\n",
        "\n",
        "**update()** :\tUpdate the set with the union of this set and others\n",
        "__"
      ]
    },
    {
      "cell_type": "markdown",
      "metadata": {
        "id": "VDdPRc1OgAnX",
        "colab_type": "text"
      },
      "source": [
        "Python Set **union() Method**"
      ]
    },
    {
      "cell_type": "code",
      "metadata": {
        "id": "9qqFwP7GfNyX",
        "colab_type": "code",
        "outputId": "05e139a1-5cbd-42fd-a717-df23625ada04",
        "colab": {
          "base_uri": "https://localhost:8080/",
          "height": 34
        }
      },
      "source": [
        "x = {\"apple\", \"banana\", \"cherry\"}\n",
        "y = {\"google\", \"microsoft\", \"apple\"}\n",
        "\n",
        "z = x.union(y) \n",
        "\n",
        "print(z)"
      ],
      "execution_count": 0,
      "outputs": [
        {
          "output_type": "stream",
          "text": [
            "{'apple', 'microsoft', 'google', 'banana', 'cherry'}\n"
          ],
          "name": "stdout"
        }
      ]
    }
  ]
}
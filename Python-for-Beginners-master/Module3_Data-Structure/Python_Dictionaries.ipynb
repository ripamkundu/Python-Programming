{
  "nbformat": 4,
  "nbformat_minor": 0,
  "metadata": {
    "colab": {
      "name": "Python_Dictionaries.ipynb",
      "version": "0.3.2",
      "provenance": [],
      "collapsed_sections": []
    },
    "kernelspec": {
      "name": "python3",
      "display_name": "Python 3"
    }
  },
  "cells": [
    {
      "cell_type": "markdown",
      "metadata": {
        "id": "55P2uvpbgZ2Q",
        "colab_type": "text"
      },
      "source": [
        "#Dictionary\n",
        "\n",
        "A dictionary is a collection which is **unordered, changeable and indexed**. In Python dictionaries are written with **curly brackets** { }, and they have **keys and values** in each **items**.\n",
        "\n",
        "---\n",
        "\n"
      ]
    },
    {
      "cell_type": "code",
      "metadata": {
        "id": "DJV56vzqgS3k",
        "colab_type": "code",
        "outputId": "c0d3c717-b229-4d79-a548-47ebe2785c53",
        "colab": {
          "base_uri": "https://localhost:8080/",
          "height": 34
        }
      },
      "source": [
        "# Create and print a dictionary:\n",
        "\n",
        "thisdict =\t{\n",
        "  \"brand\": \"Ford\",\n",
        "  \"model\": \"Mustang\",\n",
        "  \"year\": 1964\n",
        "}\n",
        "print(thisdict)"
      ],
      "execution_count": 0,
      "outputs": [
        {
          "output_type": "stream",
          "text": [
            "{'brand': 'Ford', 'model': 'Mustang', 'year': 1964}\n"
          ],
          "name": "stdout"
        }
      ]
    },
    {
      "cell_type": "markdown",
      "metadata": {
        "id": "eidBS1yopm3j",
        "colab_type": "text"
      },
      "source": [
        "**Accessing Items**\n",
        "\n",
        "You can access the items of a dictionary by referring to its key name, inside square brackets:\n",
        "\n",
        "---\n",
        "\n"
      ]
    },
    {
      "cell_type": "code",
      "metadata": {
        "id": "nSxAX9QBprc9",
        "colab_type": "code",
        "outputId": "8b20cac8-6ef7-4b95-f936-2a21bb9c90c0",
        "colab": {
          "base_uri": "https://localhost:8080/",
          "height": 34
        }
      },
      "source": [
        "thisdict =\t{\n",
        "  \"brand\": \"Ford\",\n",
        "  \"model\": \"Mustang\",\n",
        "  \"year\": 1964\n",
        "}\n",
        "print(thisdict[\"brand\"])\n"
      ],
      "execution_count": 0,
      "outputs": [
        {
          "output_type": "stream",
          "text": [
            "Ford\n"
          ],
          "name": "stdout"
        }
      ]
    },
    {
      "cell_type": "markdown",
      "metadata": {
        "id": "_cT8QFFpqmrR",
        "colab_type": "text"
      },
      "source": [
        "here is also a method called **get() ** that will give you the same result:"
      ]
    },
    {
      "cell_type": "code",
      "metadata": {
        "id": "UFPnu5suqrN2",
        "colab_type": "code",
        "outputId": "85014571-ecd2-472f-e1d8-955d5968f755",
        "colab": {
          "base_uri": "https://localhost:8080/",
          "height": 34
        }
      },
      "source": [
        "thisdict =\t{\n",
        "  \"brand\": \"Ford\",\n",
        "  \"model\": \"Mustang\",\n",
        "  \"year\": 1964\n",
        "}\n",
        "print(thisdict.get(\"model\"))"
      ],
      "execution_count": 0,
      "outputs": [
        {
          "output_type": "stream",
          "text": [
            "Mustang\n"
          ],
          "name": "stdout"
        }
      ]
    },
    {
      "cell_type": "markdown",
      "metadata": {
        "id": "r2WazNnArGvK",
        "colab_type": "text"
      },
      "source": [
        "**Change Values**\n",
        "\n",
        "You can change the value of a specific item by referring to its key name:\n",
        "\n",
        "---\n",
        "\n"
      ]
    },
    {
      "cell_type": "code",
      "metadata": {
        "id": "E0XaPYAHrNGE",
        "colab_type": "code",
        "outputId": "0bb29830-ce7d-48c8-c910-8b3dfb01a838",
        "colab": {
          "base_uri": "https://localhost:8080/",
          "height": 34
        }
      },
      "source": [
        "thisdict =\t{\n",
        "  \"brand\": \"Ford\",\n",
        "  \"model\": \"Mustang\",\n",
        "  \"year\": 1964\n",
        "}\n",
        "\n",
        "thisdict[\"year\"] = 2018\n",
        "print(thisdict)"
      ],
      "execution_count": 0,
      "outputs": [
        {
          "output_type": "stream",
          "text": [
            "{'brand': 'Ford', 'model': 'Mustang', 'year': 2018}\n"
          ],
          "name": "stdout"
        }
      ]
    },
    {
      "cell_type": "markdown",
      "metadata": {
        "id": "v8n7rlQmrlFE",
        "colab_type": "text"
      },
      "source": [
        "**Loop Through a Dictionary**\n",
        "\n",
        "You can loop through a dictionary by using a for loop.\n",
        "\n",
        "When looping through a dictionary, the return value are the keys of the dictionary, but there are methods to return the values as well.\n",
        "\n",
        "---\n",
        "\n"
      ]
    },
    {
      "cell_type": "code",
      "metadata": {
        "id": "BGjtYsmPrnjz",
        "colab_type": "code",
        "outputId": "159465c5-2239-47ea-84c0-a4319bca9851",
        "colab": {
          "base_uri": "https://localhost:8080/",
          "height": 68
        }
      },
      "source": [
        "#Print all key names in the dictionary, one by one:\n",
        "\n",
        "thisdict =\t{\n",
        "  \"brand\": \"Ford\",\n",
        "  \"model\": \"Mustang\",\n",
        "  \"year\": 1964\n",
        "}\n",
        "\n",
        "for x in thisdict:\n",
        "  print(x)"
      ],
      "execution_count": 0,
      "outputs": [
        {
          "output_type": "stream",
          "text": [
            "brand\n",
            "model\n",
            "year\n"
          ],
          "name": "stdout"
        }
      ]
    },
    {
      "cell_type": "markdown",
      "metadata": {
        "id": "gSOU8Tn2sVyI",
        "colab_type": "text"
      },
      "source": [
        "Print all values in the dictionary, one by one:"
      ]
    },
    {
      "cell_type": "code",
      "metadata": {
        "id": "jPgM4T_-r93Q",
        "colab_type": "code",
        "outputId": "cd9b76cd-1bec-4d7c-d397-850e946698df",
        "colab": {
          "base_uri": "https://localhost:8080/",
          "height": 68
        }
      },
      "source": [
        "thisdict =\t{\n",
        "  \"brand\": \"Ford\",\n",
        "  \"model\": \"Mustang\",\n",
        "  \"year\": 1964\n",
        "}\n",
        "\n",
        "for x in thisdict:\n",
        "  print(thisdict[x])"
      ],
      "execution_count": 0,
      "outputs": [
        {
          "output_type": "stream",
          "text": [
            "Ford\n",
            "Mustang\n",
            "1964\n"
          ],
          "name": "stdout"
        }
      ]
    },
    {
      "cell_type": "markdown",
      "metadata": {
        "id": "26Up1oPxseG4",
        "colab_type": "text"
      },
      "source": [
        "You can also use the values() function to return values of a dictionary:"
      ]
    },
    {
      "cell_type": "code",
      "metadata": {
        "id": "nwBYsqpFsf2N",
        "colab_type": "code",
        "outputId": "22c34917-ce30-43f3-e9b6-19edff66b88a",
        "colab": {
          "base_uri": "https://localhost:8080/",
          "height": 68
        }
      },
      "source": [
        "thisdict =\t{\n",
        "  \"brand\": \"Ford\",\n",
        "  \"model\": \"Mustang\",\n",
        "  \"year\": 1964\n",
        "}\n",
        "for x in thisdict.values():\n",
        "  print(x)"
      ],
      "execution_count": 0,
      "outputs": [
        {
          "output_type": "stream",
          "text": [
            "Ford\n",
            "Mustang\n",
            "1964\n"
          ],
          "name": "stdout"
        }
      ]
    },
    {
      "cell_type": "markdown",
      "metadata": {
        "id": "pbIo0nQhsoJ4",
        "colab_type": "text"
      },
      "source": [
        "Loop through both keys and values, by using the items() function:"
      ]
    },
    {
      "cell_type": "code",
      "metadata": {
        "id": "5Jfuf2iasqmc",
        "colab_type": "code",
        "outputId": "0f8bea3a-3a9c-4eb8-9eff-a2ceb011bf5c",
        "colab": {
          "base_uri": "https://localhost:8080/",
          "height": 68
        }
      },
      "source": [
        "for x,y in thisdict.items():\n",
        "  print(x, y)"
      ],
      "execution_count": 0,
      "outputs": [
        {
          "output_type": "stream",
          "text": [
            "brand Ford\n",
            "model Mustang\n",
            "year 1964\n"
          ],
          "name": "stdout"
        }
      ]
    },
    {
      "cell_type": "markdown",
      "metadata": {
        "id": "jsYfH5uKtnQY",
        "colab_type": "text"
      },
      "source": [
        "**Check if Key Exists**\n",
        "\n",
        "To determine if a specified key is present in a dictionary use the in keyword:\n",
        "\n",
        "---\n",
        "\n"
      ]
    },
    {
      "cell_type": "code",
      "metadata": {
        "id": "jQ8bAdnYttzM",
        "colab_type": "code",
        "outputId": "f4eedbbc-d106-4854-8e24-fa23fee62266",
        "colab": {
          "base_uri": "https://localhost:8080/",
          "height": 34
        }
      },
      "source": [
        "thisdict =\t{\n",
        "  \"brand\": \"Ford\",\n",
        "  \"model\": \"Mustang\",\n",
        "  \"year\": 1964\n",
        "}\n",
        "if \"model\" in thisdict:\n",
        "  print(\"Yes, 'model' is one of the keys in the thisdict dictionary\")"
      ],
      "execution_count": 0,
      "outputs": [
        {
          "output_type": "stream",
          "text": [
            "Yes, 'model' is one of the keys in the thisdict dictionary\n"
          ],
          "name": "stdout"
        }
      ]
    },
    {
      "cell_type": "markdown",
      "metadata": {
        "id": "yvIkMdoAtzV0",
        "colab_type": "text"
      },
      "source": [
        "**Dictionary Length**\n",
        "\n",
        "To determine how many items (key-value pairs) a dictionary has, use the **len() method**.\n",
        "\n",
        "---\n",
        "\n"
      ]
    },
    {
      "cell_type": "code",
      "metadata": {
        "id": "gjw8T970t5FU",
        "colab_type": "code",
        "outputId": "628151de-f9d7-4e96-971f-a9c963eed8a2",
        "colab": {
          "base_uri": "https://localhost:8080/",
          "height": 34
        }
      },
      "source": [
        "thisdict =\t{\n",
        "  \"brand\": \"Ford\",\n",
        "  \"model\": \"Mustang\",\n",
        "  \"year\": 1964\n",
        "}\n",
        "print(len(thisdict))"
      ],
      "execution_count": 0,
      "outputs": [
        {
          "output_type": "stream",
          "text": [
            "3\n"
          ],
          "name": "stdout"
        }
      ]
    },
    {
      "cell_type": "markdown",
      "metadata": {
        "id": "o4VeepqFuHPA",
        "colab_type": "text"
      },
      "source": [
        "**Adding Items**\n",
        "\n",
        "Adding an item to the dictionary is done by **using a new index key and assigning a value** to it:\n",
        "\n",
        "---\n",
        "\n"
      ]
    },
    {
      "cell_type": "code",
      "metadata": {
        "id": "eB8ehPqCuNav",
        "colab_type": "code",
        "outputId": "c212b943-0107-4100-b0a5-cf2bdd503eb6",
        "colab": {
          "base_uri": "https://localhost:8080/",
          "height": 34
        }
      },
      "source": [
        "thisdict =\t{\n",
        "  \"brand\": \"Ford\",\n",
        "  \"model\": \"Mustang\",\n",
        "  \"year\": 1964\n",
        "}\n",
        "thisdict[\"color\"]=\"Red\"\n",
        "print(thisdict)"
      ],
      "execution_count": 0,
      "outputs": [
        {
          "output_type": "stream",
          "text": [
            "{'brand': 'Ford', 'model': 'Mustang', 'year': 1964, 'color': 'Red'}\n"
          ],
          "name": "stdout"
        }
      ]
    },
    {
      "cell_type": "markdown",
      "metadata": {
        "id": "swoATTcCuYbN",
        "colab_type": "text"
      },
      "source": [
        "**Removing Items**\n",
        "\n",
        "There are several methods to remove items from a dictionary:\n",
        "\n",
        "---\n",
        "\n",
        "The **pop() method removes** the item with the specified key name:"
      ]
    },
    {
      "cell_type": "code",
      "metadata": {
        "id": "W1MA_KESupWg",
        "colab_type": "code",
        "outputId": "f100ef7f-3e28-4ca3-d82c-eca2e1ed540e",
        "colab": {
          "base_uri": "https://localhost:8080/",
          "height": 34
        }
      },
      "source": [
        "thisdict =\t{\n",
        "  \"brand\": \"Ford\",\n",
        "  \"model\": \"Mustang\",\n",
        "  \"year\": 1964\n",
        "}\n",
        "thisdict.pop(\"model\")\n",
        "print(thisdict)"
      ],
      "execution_count": 0,
      "outputs": [
        {
          "output_type": "stream",
          "text": [
            "{'brand': 'Ford', 'year': 1964}\n"
          ],
          "name": "stdout"
        }
      ]
    },
    {
      "cell_type": "markdown",
      "metadata": {
        "id": "bmE3Pb6xu0Tw",
        "colab_type": "text"
      },
      "source": [
        "The **popitem() method** removes the last inserted item (in versions before 3.7, a random item is removed instead):"
      ]
    },
    {
      "cell_type": "code",
      "metadata": {
        "id": "lEAOc1Jgu8ZI",
        "colab_type": "code",
        "outputId": "e506d1a3-5995-4399-a09f-56cf2e7681cc",
        "colab": {
          "base_uri": "https://localhost:8080/",
          "height": 34
        }
      },
      "source": [
        "thisdict =\t{\n",
        "  \"brand\": \"Ford\",\n",
        "  \"model\": \"Mustang\",\n",
        "  \"year\": 1964\n",
        "}\n",
        "thisdict.popitem()\n",
        "print(thisdict)"
      ],
      "execution_count": 0,
      "outputs": [
        {
          "output_type": "stream",
          "text": [
            "{'brand': 'Ford', 'model': 'Mustang'}\n"
          ],
          "name": "stdout"
        }
      ]
    },
    {
      "cell_type": "markdown",
      "metadata": {
        "id": "pJhKl0kAvC0k",
        "colab_type": "text"
      },
      "source": [
        "The **del keyword **removes the item with the specified key name:"
      ]
    },
    {
      "cell_type": "code",
      "metadata": {
        "id": "VM9onl6GvGc4",
        "colab_type": "code",
        "outputId": "d378a313-c48c-4c1a-d5dd-4e0de188d794",
        "colab": {
          "base_uri": "https://localhost:8080/",
          "height": 34
        }
      },
      "source": [
        "thisdict =\t{\n",
        "  \"brand\": \"Ford\",\n",
        "  \"model\": \"Mustang\",\n",
        "  \"year\": 1964\n",
        "}\n",
        "del thisdict[\"model\"]\n",
        "print(thisdict)"
      ],
      "execution_count": 0,
      "outputs": [
        {
          "output_type": "stream",
          "text": [
            "{'brand': 'Ford', 'year': 1964}\n"
          ],
          "name": "stdout"
        }
      ]
    },
    {
      "cell_type": "markdown",
      "metadata": {
        "id": "TVfiOi6kvOYS",
        "colab_type": "text"
      },
      "source": [
        "The del keyword can also delete the dictionary completely:"
      ]
    },
    {
      "cell_type": "code",
      "metadata": {
        "id": "AcpFZMUSvRka",
        "colab_type": "code",
        "outputId": "578bd603-3173-40c3-f376-38bf59c2bbba",
        "colab": {
          "base_uri": "https://localhost:8080/",
          "height": 197
        }
      },
      "source": [
        "thisdict =\t{\n",
        "  \"brand\": \"Ford\",\n",
        "  \"model\": \"Mustang\",\n",
        "  \"year\": 1964\n",
        "}\n",
        "del thisdict\n",
        "print(thisdict) #this will cause an error because \"thisdict\" no longer exists."
      ],
      "execution_count": 0,
      "outputs": [
        {
          "output_type": "error",
          "ename": "NameError",
          "evalue": "ignored",
          "traceback": [
            "\u001b[0;31m---------------------------------------------------------------------------\u001b[0m",
            "\u001b[0;31mNameError\u001b[0m                                 Traceback (most recent call last)",
            "\u001b[0;32m<ipython-input-36-539e3802548a>\u001b[0m in \u001b[0;36m<module>\u001b[0;34m()\u001b[0m\n\u001b[1;32m      5\u001b[0m }\n\u001b[1;32m      6\u001b[0m \u001b[0;32mdel\u001b[0m \u001b[0mthisdict\u001b[0m\u001b[0;34m\u001b[0m\u001b[0;34m\u001b[0m\u001b[0m\n\u001b[0;32m----> 7\u001b[0;31m \u001b[0mprint\u001b[0m\u001b[0;34m(\u001b[0m\u001b[0mthisdict\u001b[0m\u001b[0;34m)\u001b[0m \u001b[0;31m#this will cause an error because \"thisdict\" no longer exists.\u001b[0m\u001b[0;34m\u001b[0m\u001b[0;34m\u001b[0m\u001b[0m\n\u001b[0m",
            "\u001b[0;31mNameError\u001b[0m: name 'thisdict' is not defined"
          ]
        }
      ]
    },
    {
      "cell_type": "markdown",
      "metadata": {
        "id": "wU3EcrRcvUal",
        "colab_type": "text"
      },
      "source": [
        "The **clear() keyword ** empties the dictionary:"
      ]
    },
    {
      "cell_type": "code",
      "metadata": {
        "id": "eqHCKQyEvY3c",
        "colab_type": "code",
        "outputId": "97caba97-30c6-4896-9e06-e4cad9db33d1",
        "colab": {
          "base_uri": "https://localhost:8080/",
          "height": 34
        }
      },
      "source": [
        "thisdict =\t{\n",
        "  \"brand\": \"Ford\",\n",
        "  \"model\": \"Mustang\",\n",
        "  \"year\": 1964\n",
        "}\n",
        "thisdict.clear()\n",
        "print(thisdict)"
      ],
      "execution_count": 0,
      "outputs": [
        {
          "output_type": "stream",
          "text": [
            "{}\n"
          ],
          "name": "stdout"
        }
      ]
    },
    {
      "cell_type": "markdown",
      "metadata": {
        "id": "CK-ESl7Fvd67",
        "colab_type": "text"
      },
      "source": [
        "**The dict() Constructor**\n",
        "\n",
        "It is also possible to use the dict() constructor to make a dictionary:\n",
        "\n",
        "---\n",
        "\n"
      ]
    },
    {
      "cell_type": "code",
      "metadata": {
        "id": "QKH70FJfvhHs",
        "colab_type": "code",
        "outputId": "fd9eca78-6e57-4458-9b4c-f606388931bb",
        "colab": {
          "base_uri": "https://localhost:8080/",
          "height": 34
        }
      },
      "source": [
        "thisdict =\tdict(brand=\"Ford\", model=\"Mustang\", year=1964)\n",
        "# note that keywords are not string literals\n",
        "# note the use of equals rather than colon for the assignment\n",
        "print(thisdict)\n"
      ],
      "execution_count": 0,
      "outputs": [
        {
          "output_type": "stream",
          "text": [
            "{'brand': 'Ford', 'model': 'Mustang', 'year': 1964}\n"
          ],
          "name": "stdout"
        }
      ]
    },
    {
      "cell_type": "markdown",
      "metadata": {
        "id": "PouzcEu8v-bB",
        "colab_type": "text"
      },
      "source": [
        "#Dictionary Methods\n",
        "\n",
        "Python has a set of built-in methods that you can use on dictionaries.\n",
        "\n",
        "---\n",
        " \n",
        "**Method**                    \t**Description**\n",
        "\n",
        "---\n",
        "\n",
        "**clear()**\t: Removes all the elements from the dictionary\n",
        "\n",
        "**copy()** :\tReturns a copy of the dictionary\n",
        "\n",
        "**fromkeys()**\t: Returns a dictionary with the specified keys and values\n",
        "\n",
        "**get()**\t: Returns the value of the specified key\n",
        "\n",
        "**items()**\t: Returns a list containing the a tuple for each key value pair\n",
        "\n",
        "**keys()**\t: Returns a list containing the dictionary's keys\n",
        "\n",
        "**pop()**\t: Removes the element with the specified key\n",
        "\n",
        "**popitem()**\t: Removes the last inserted key-value pair\n",
        "\n",
        "**setdefault()** :\tReturns the value of the specified key. If the key does not exist: insert the key, with the specified value\n",
        "\n",
        "**update()** :\tUpdates the dictionary with the specified key-value pairs\n",
        "\n",
        "**values()**\tReturns a list of all the values in the dictionary"
      ]
    }
  ]
}
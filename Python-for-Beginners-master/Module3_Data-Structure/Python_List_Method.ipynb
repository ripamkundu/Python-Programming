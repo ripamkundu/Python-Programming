{
  "nbformat": 4,
  "nbformat_minor": 0,
  "metadata": {
    "colab": {
      "name": "Python_List_Method.ipynb",
      "version": "0.3.2",
      "provenance": [],
      "collapsed_sections": []
    },
    "kernelspec": {
      "name": "python3",
      "display_name": "Python 3"
    }
  },
  "cells": [
    {
      "cell_type": "markdown",
      "metadata": {
        "id": "bVLp43rzMEwr",
        "colab_type": "text"
      },
      "source": [
        "#Python Lists\n",
        "\n",
        "**Python Collections (Arrays)**\n",
        "\n",
        "There are four collection data types in the Python programming language:\n",
        "\n",
        "\n",
        "*   **List** is a collection which is ordered and changeable. Allows duplicate members.\n",
        "*   **Tuple** is a collection which is ordered and unchangeable. Allows duplicate members.\n",
        "*   **Set** is a collection which is unordered and unindexed. No duplicate members.\n",
        "*   **Dictionary** is a collection which is unordered, changeable and indexed. No duplicate members.\n",
        "\n",
        "\n",
        "When choosing a collection type, it is useful to understand the properties of that type. Choosing the right type for a particular data set could mean retention of meaning, and, it could mean an increase in efficiency or security.\n",
        "\n",
        "---\n",
        "\n"
      ]
    },
    {
      "cell_type": "markdown",
      "metadata": {
        "id": "gdrg54DqMtTO",
        "colab_type": "text"
      },
      "source": [
        "**List**\n",
        "\n",
        "A list is a collection which is ordered and changeable. In Python lists are written with square brackets. [ ]\n",
        "\n",
        "---\n",
        "\n"
      ]
    },
    {
      "cell_type": "code",
      "metadata": {
        "id": "JHUrEwPAKusq",
        "colab_type": "code",
        "outputId": "b8db3ad2-3225-4799-c088-6ed24972640c",
        "colab": {
          "base_uri": "https://localhost:8080/",
          "height": 34
        }
      },
      "source": [
        "# Example\n",
        "thislist = [\"apple\",\"banana\",\"cherry\"]\n",
        "print(thislist)"
      ],
      "execution_count": 0,
      "outputs": [
        {
          "output_type": "stream",
          "text": [
            "['apple', 'banana', 'cherry']\n"
          ],
          "name": "stdout"
        }
      ]
    },
    {
      "cell_type": "markdown",
      "metadata": {
        "id": "SUemfLyxNR-s",
        "colab_type": "text"
      },
      "source": [
        "**Access Items**\n",
        "\n",
        "You access the list items by referring to the index number: (Index numbering start from 0 to n-1)\n",
        "\n",
        "---\n",
        "\n"
      ]
    },
    {
      "cell_type": "code",
      "metadata": {
        "id": "IFIDs4pCNUd2",
        "colab_type": "code",
        "outputId": "1010f304-178a-4f24-9bad-f5b634009c87",
        "colab": {
          "base_uri": "https://localhost:8080/",
          "height": 34
        }
      },
      "source": [
        "thislist = [\"apple\",\"banana\",\"cherry\"]\n",
        "print(thislist[1])"
      ],
      "execution_count": 0,
      "outputs": [
        {
          "output_type": "stream",
          "text": [
            "banana\n"
          ],
          "name": "stdout"
        }
      ]
    },
    {
      "cell_type": "markdown",
      "metadata": {
        "id": "sPf31QOpNuxU",
        "colab_type": "text"
      },
      "source": [
        "**Change Item Value**\n",
        "\n",
        "To change the value of a specific item, refer to the index number:\n",
        "\n",
        "---\n",
        "\n"
      ]
    },
    {
      "cell_type": "code",
      "metadata": {
        "id": "_t8IZo0uNzUz",
        "colab_type": "code",
        "outputId": "7b98957c-41b4-438b-8ae8-7515e3abf1fa",
        "colab": {
          "base_uri": "https://localhost:8080/",
          "height": 34
        }
      },
      "source": [
        "thislist = [\"apple\",\"banana\",\"cherry\"]\n",
        "thislist[1] = \"blackcurrant\"\n",
        "print(thislist)"
      ],
      "execution_count": 0,
      "outputs": [
        {
          "output_type": "stream",
          "text": [
            "['apple', 'blackcurrant', 'cherry']\n"
          ],
          "name": "stdout"
        }
      ]
    },
    {
      "cell_type": "markdown",
      "metadata": {
        "id": "uGbxbSS9OFV8",
        "colab_type": "text"
      },
      "source": [
        "**Loop Through a List**\n",
        "\n",
        "You can loop through the list items by using a for loop:\n",
        "\n",
        "---\n",
        "\n"
      ]
    },
    {
      "cell_type": "code",
      "metadata": {
        "id": "6WBt48F6OJHE",
        "colab_type": "code",
        "outputId": "61f02e13-7d87-4398-85ae-6b41c5af1485",
        "colab": {
          "base_uri": "https://localhost:8080/",
          "height": 68
        }
      },
      "source": [
        "thislist = [\"apple\",\"banana\",\"cherry\"]\n",
        "for x in thislist:\n",
        "  print(x)"
      ],
      "execution_count": 0,
      "outputs": [
        {
          "output_type": "stream",
          "text": [
            "apple\n",
            "banana\n",
            "cherry\n"
          ],
          "name": "stdout"
        }
      ]
    },
    {
      "cell_type": "markdown",
      "metadata": {
        "id": "GQQsq72BORwh",
        "colab_type": "text"
      },
      "source": [
        "**Check if Item Exists**\n",
        "\n",
        "To determine if a specified item is present in a list use the **in keyword**:"
      ]
    },
    {
      "cell_type": "code",
      "metadata": {
        "id": "PT-IFVbaObsH",
        "colab_type": "code",
        "outputId": "24538ade-0fa1-4daf-e89a-9b0dffce32cc",
        "colab": {
          "base_uri": "https://localhost:8080/",
          "height": 34
        }
      },
      "source": [
        "thislist = [\"apple\",\"banana\",\"cherry\"]\n",
        "if \"banana\" in thislist:\n",
        "  print(\"Yes, banana in this fruit list\")"
      ],
      "execution_count": 0,
      "outputs": [
        {
          "output_type": "stream",
          "text": [
            "Yes, banana in this fruit list\n"
          ],
          "name": "stdout"
        }
      ]
    },
    {
      "cell_type": "markdown",
      "metadata": {
        "id": "0Ashc6euOu-I",
        "colab_type": "text"
      },
      "source": [
        "**List Length**\n",
        "\n",
        "To determine how many items a list has, use the **len() method**:\n",
        "\n",
        "---\n",
        "\n"
      ]
    },
    {
      "cell_type": "code",
      "metadata": {
        "id": "IsDKn36LO3RD",
        "colab_type": "code",
        "outputId": "11d765d9-f530-46f7-c105-3bb856d1acae",
        "colab": {
          "base_uri": "https://localhost:8080/",
          "height": 34
        }
      },
      "source": [
        "thislist = [\"apple\",\"banana\",\"cherry\"]\n",
        "print(len(thislist))"
      ],
      "execution_count": 0,
      "outputs": [
        {
          "output_type": "stream",
          "text": [
            "3\n"
          ],
          "name": "stdout"
        }
      ]
    },
    {
      "cell_type": "markdown",
      "metadata": {
        "id": "mnT5ZM3UO9AR",
        "colab_type": "text"
      },
      "source": [
        "**Add Items**\n",
        "\n",
        "To add an item to the end of the list, use the **append() method**:\n",
        "\n",
        "---\n",
        "\n"
      ]
    },
    {
      "cell_type": "code",
      "metadata": {
        "id": "9-5UszWYPDk4",
        "colab_type": "code",
        "outputId": "13a3263d-9380-4bf6-a586-d5d1a25e7133",
        "colab": {
          "base_uri": "https://localhost:8080/",
          "height": 34
        }
      },
      "source": [
        "thislist = [\"apple\",\"banana\",\"cherry\"]\n",
        "thislist.append(\"blackcurrant\")\n",
        "print(thislist)"
      ],
      "execution_count": 0,
      "outputs": [
        {
          "output_type": "stream",
          "text": [
            "['apple', 'banana', 'cherry', 'blackcurrant']\n"
          ],
          "name": "stdout"
        }
      ]
    },
    {
      "cell_type": "markdown",
      "metadata": {
        "id": "rHVLQO1bPUFR",
        "colab_type": "text"
      },
      "source": [
        "To add an item at the specified index, use the **insert() method:**"
      ]
    },
    {
      "cell_type": "code",
      "metadata": {
        "id": "qjn2ZewaPaXA",
        "colab_type": "code",
        "outputId": "e5bb69ca-dfdb-4c8a-bc68-3f69fabeabc4",
        "colab": {
          "base_uri": "https://localhost:8080/",
          "height": 34
        }
      },
      "source": [
        "thislist = [\"apple\",\"banana\",\"cherry\"]\n",
        "thislist.insert(2,\"orange\")\n",
        "print(thislist)"
      ],
      "execution_count": 0,
      "outputs": [
        {
          "output_type": "stream",
          "text": [
            "['apple', 'banana', 'orange', 'cherry']\n"
          ],
          "name": "stdout"
        }
      ]
    },
    {
      "cell_type": "markdown",
      "metadata": {
        "id": "Sxsdk6N9PsB_",
        "colab_type": "text"
      },
      "source": [
        "**Remove Item**\n",
        "\n",
        "There are several methods to remove items from a list using **remove() method**:\n",
        "\n",
        "---\n",
        "\n"
      ]
    },
    {
      "cell_type": "code",
      "metadata": {
        "id": "RJjxTo5LPq63",
        "colab_type": "code",
        "outputId": "f23ce53d-5e41-4543-e1bf-290eb4e25f02",
        "colab": {
          "base_uri": "https://localhost:8080/",
          "height": 34
        }
      },
      "source": [
        "thislist = [\"apple\",\"banana\",\"cherry\"]\n",
        "thislist.remove(\"banana\")\n",
        "print(thislist)"
      ],
      "execution_count": 0,
      "outputs": [
        {
          "output_type": "stream",
          "text": [
            "['apple', 'cherry']\n"
          ],
          "name": "stdout"
        }
      ]
    },
    {
      "cell_type": "markdown",
      "metadata": {
        "id": "7EhqgHLZQJCx",
        "colab_type": "text"
      },
      "source": [
        "The **pop() method** removes the specified index, (or the last item if index is not specified):\n",
        "\n",
        "---\n",
        "\n"
      ]
    },
    {
      "cell_type": "code",
      "metadata": {
        "id": "lpjSfq8RQNlq",
        "colab_type": "code",
        "outputId": "1eb9733f-e2e9-47d2-c126-f0c52103a5a3",
        "colab": {
          "base_uri": "https://localhost:8080/",
          "height": 51
        }
      },
      "source": [
        "thislist = [\"apple\",\"banana\",\"cherry\"]\n",
        "thislist.pop()\n",
        "print(thislist)\n",
        "\n",
        "thislist.pop(1)\n",
        "print(thislist)"
      ],
      "execution_count": 0,
      "outputs": [
        {
          "output_type": "stream",
          "text": [
            "['apple', 'banana']\n",
            "['apple']\n"
          ],
          "name": "stdout"
        }
      ]
    },
    {
      "cell_type": "markdown",
      "metadata": {
        "id": "z4BOP95JQoeG",
        "colab_type": "text"
      },
      "source": [
        "The **del keyword** removes the specified index:\n",
        "\n",
        "---\n",
        "\n",
        "\n"
      ]
    },
    {
      "cell_type": "code",
      "metadata": {
        "id": "jCPMpRydQvvM",
        "colab_type": "code",
        "outputId": "21ca9080-ad5e-4d3d-f07b-4ac70e0690e3",
        "colab": {
          "base_uri": "https://localhost:8080/",
          "height": 34
        }
      },
      "source": [
        "thislist = [\"apple\", \"banana\", \"cherry\"]\n",
        "del thislist[0]\n",
        "print(thislist)\n"
      ],
      "execution_count": 0,
      "outputs": [
        {
          "output_type": "stream",
          "text": [
            "['banana', 'cherry']\n"
          ],
          "name": "stdout"
        }
      ]
    },
    {
      "cell_type": "markdown",
      "metadata": {
        "id": "7RYdq1RHRGRB",
        "colab_type": "text"
      },
      "source": [
        "The **del keyword** can also delete the list completely:"
      ]
    },
    {
      "cell_type": "code",
      "metadata": {
        "id": "w9tQb2WqRJ1W",
        "colab_type": "code",
        "outputId": "d428226a-53a9-4592-803f-7fb16d18bd7e",
        "colab": {
          "base_uri": "https://localhost:8080/",
          "height": 197
        }
      },
      "source": [
        "thislist = [\"apple\", \"banana\", \"cherry\"]\n",
        "del thislist\n",
        "print(thislist) #this will cause an error because \"thislist\" no longer exists."
      ],
      "execution_count": 0,
      "outputs": [
        {
          "output_type": "error",
          "ename": "NameError",
          "evalue": "ignored",
          "traceback": [
            "\u001b[0;31m---------------------------------------------------------------------------\u001b[0m",
            "\u001b[0;31mNameError\u001b[0m                                 Traceback (most recent call last)",
            "\u001b[0;32m<ipython-input-21-7f9b7e6be286>\u001b[0m in \u001b[0;36m<module>\u001b[0;34m()\u001b[0m\n\u001b[1;32m      1\u001b[0m \u001b[0mthislist\u001b[0m \u001b[0;34m=\u001b[0m \u001b[0;34m[\u001b[0m\u001b[0;34m\"apple\"\u001b[0m\u001b[0;34m,\u001b[0m \u001b[0;34m\"banana\"\u001b[0m\u001b[0;34m,\u001b[0m \u001b[0;34m\"cherry\"\u001b[0m\u001b[0;34m]\u001b[0m\u001b[0;34m\u001b[0m\u001b[0;34m\u001b[0m\u001b[0m\n\u001b[1;32m      2\u001b[0m \u001b[0;32mdel\u001b[0m \u001b[0mthislist\u001b[0m\u001b[0;34m\u001b[0m\u001b[0;34m\u001b[0m\u001b[0m\n\u001b[0;32m----> 3\u001b[0;31m \u001b[0mprint\u001b[0m\u001b[0;34m(\u001b[0m\u001b[0mthislist\u001b[0m\u001b[0;34m)\u001b[0m \u001b[0;31m#this will cause an error because \"thislist\" no longer exists.\u001b[0m\u001b[0;34m\u001b[0m\u001b[0;34m\u001b[0m\u001b[0m\n\u001b[0m",
            "\u001b[0;31mNameError\u001b[0m: name 'thislist' is not defined"
          ]
        }
      ]
    },
    {
      "cell_type": "markdown",
      "metadata": {
        "id": "yG1wWMwzROCy",
        "colab_type": "text"
      },
      "source": [
        "The **clear() method** empties the list:\n",
        "\n",
        "---\n",
        "\n"
      ]
    },
    {
      "cell_type": "code",
      "metadata": {
        "id": "vGWZhgmMRUQ9",
        "colab_type": "code",
        "outputId": "da0f5e7c-8828-4825-b5b5-78ddd6d23412",
        "colab": {
          "base_uri": "https://localhost:8080/",
          "height": 34
        }
      },
      "source": [
        "thislist = [\"apple\", \"banana\", \"cherry\"]\n",
        "thislist.clear()\n",
        "print(thislist)"
      ],
      "execution_count": 0,
      "outputs": [
        {
          "output_type": "stream",
          "text": [
            "[]\n"
          ],
          "name": "stdout"
        }
      ]
    },
    {
      "cell_type": "markdown",
      "metadata": {
        "id": "cC3o26a8RbU8",
        "colab_type": "text"
      },
      "source": [
        "**The list() Constructor**\n",
        "\n",
        "It is also possible to use the **list() constructor** to make a list."
      ]
    },
    {
      "cell_type": "code",
      "metadata": {
        "id": "Q1b4n-ogRe1a",
        "colab_type": "code",
        "outputId": "f1af0de6-39e7-44c1-d57f-4560051fc558",
        "colab": {
          "base_uri": "https://localhost:8080/",
          "height": 34
        }
      },
      "source": [
        "thislist = list((\"apple\", \"banana\", \"cherry\")) # note the double round-brackets\n",
        "print(thislist)"
      ],
      "execution_count": 0,
      "outputs": [
        {
          "output_type": "stream",
          "text": [
            "['apple', 'banana', 'cherry']\n"
          ],
          "name": "stdout"
        }
      ]
    },
    {
      "cell_type": "markdown",
      "metadata": {
        "id": "Mh7gNxBBRmSU",
        "colab_type": "text"
      },
      "source": [
        "**Method\tDescription**\n",
        "\n",
        "**append()**\t: Adds an element at the end of the list\n",
        "\n",
        "**clear()**\t: Removes all the elements from the list\n",
        "\n",
        "**copy()** : Returns a copy of the list\n",
        "\n",
        "**count()**\t: Returns the number of elements with the specified value\n",
        "\n",
        "**extend()**\t: Add the elements of a list (or any iterable), to the end of the current list\n",
        "\n",
        "**index()**\t: Returns the index of the first element with the specified value\n",
        "\n",
        "**insert()**\t: Adds an element at the specified position\n",
        "\n",
        "**pop()**\t: Removes the element at the specified position\n",
        "\n",
        "**remove()**\t: Removes the item with the specified value\n",
        "\n",
        "**reverse()**\t: Reverses the order of the list\n",
        "\n",
        "**sort()**\t: Sorts the list"
      ]
    },
    {
      "cell_type": "markdown",
      "metadata": {
        "id": "xLYUJ0PAS01T",
        "colab_type": "text"
      },
      "source": [
        "**copy() : ** Returns a copy of the list\n",
        "\n",
        "---\n",
        "\n"
      ]
    },
    {
      "cell_type": "code",
      "metadata": {
        "id": "uf7sNficSO8O",
        "colab_type": "code",
        "outputId": "3f133264-5b96-4e7f-bb1f-fe12f56d7653",
        "colab": {
          "base_uri": "https://localhost:8080/",
          "height": 34
        }
      },
      "source": [
        "# Copy the fruits list in x:\n",
        "\n",
        "fruits = ['apple', 'banana', 'cherry', 'orange']\n",
        "\n",
        "x = fruits.copy()\n",
        "print(x)"
      ],
      "execution_count": 0,
      "outputs": [
        {
          "output_type": "stream",
          "text": [
            "['apple', 'banana', 'cherry', 'orange']\n"
          ],
          "name": "stdout"
        }
      ]
    },
    {
      "cell_type": "markdown",
      "metadata": {
        "id": "sA6AekYPTAaf",
        "colab_type": "text"
      },
      "source": [
        "**count()** : Returns the number of elements with the specified value\n",
        "\n",
        "---\n",
        "\n"
      ]
    },
    {
      "cell_type": "code",
      "metadata": {
        "id": "NikC7JDmTKH9",
        "colab_type": "code",
        "outputId": "c127416d-ec20-472e-995a-a29d7957b296",
        "colab": {
          "base_uri": "https://localhost:8080/",
          "height": 34
        }
      },
      "source": [
        "#Return the number of times the value \"cherry\" appears int the fruits list:\n",
        "\n",
        "fruits = ['apple', 'banana', 'cherry', 'cherry']\n",
        "\n",
        "x = fruits.count(\"cherry\")\n",
        "\n",
        "print(x)"
      ],
      "execution_count": 0,
      "outputs": [
        {
          "output_type": "stream",
          "text": [
            "2\n"
          ],
          "name": "stdout"
        }
      ]
    },
    {
      "cell_type": "markdown",
      "metadata": {
        "id": "8jtCfkqkTZCT",
        "colab_type": "text"
      },
      "source": [
        "**extend()** : Add the elements of a list (or any iterable), to the end of the current list\n",
        "\n",
        "---\n",
        "\n"
      ]
    },
    {
      "cell_type": "code",
      "metadata": {
        "id": "3IOTbhxsTf03",
        "colab_type": "code",
        "outputId": "bdcfbc80-d413-4fad-845d-0f6ddd44b693",
        "colab": {
          "base_uri": "https://localhost:8080/",
          "height": 34
        }
      },
      "source": [
        "#Add the elements of cars to the fruits list:\n",
        "\n",
        "fruits = ['apple', 'banana', 'cherry']\n",
        "\n",
        "cars = ['Ford', 'BMW', 'Volvo']\n",
        "\n",
        "fruits.extend(cars)\n",
        "\n",
        "print(fruits)"
      ],
      "execution_count": 0,
      "outputs": [
        {
          "output_type": "stream",
          "text": [
            "['apple', 'banana', 'cherry', 'Ford', 'BMW', 'Volvo']\n"
          ],
          "name": "stdout"
        }
      ]
    },
    {
      "cell_type": "markdown",
      "metadata": {
        "id": "2RG3zQiHUB51",
        "colab_type": "text"
      },
      "source": [
        "**insert()** : Adds an element at the specified position\n",
        "\n",
        "---\n",
        "\n"
      ]
    },
    {
      "cell_type": "code",
      "metadata": {
        "id": "8mlGa89RUJM2",
        "colab_type": "code",
        "outputId": "d0811f6a-67aa-4e36-fb59-29ce460a4e7a",
        "colab": {
          "base_uri": "https://localhost:8080/",
          "height": 34
        }
      },
      "source": [
        "#Insert the value \"orange\" as the second element of the fruit list:\n",
        "\n",
        "fruits = ['apple', 'banana', 'cherry']\n",
        "\n",
        "fruits.insert(1, \"orange\")\n",
        "\n",
        "print(fruits)"
      ],
      "execution_count": 0,
      "outputs": [
        {
          "output_type": "stream",
          "text": [
            "['apple', 'orange', 'banana', 'cherry']\n"
          ],
          "name": "stdout"
        }
      ]
    },
    {
      "cell_type": "markdown",
      "metadata": {
        "id": "p4f6BhZjUUcN",
        "colab_type": "text"
      },
      "source": [
        "**reverse()** : Reverses the order of the list\n",
        "\n",
        "\n",
        "---\n",
        "\n"
      ]
    },
    {
      "cell_type": "code",
      "metadata": {
        "id": "4XF_x3h-UWvA",
        "colab_type": "code",
        "outputId": "4f6bfcde-89a4-466b-8791-b28adb99e359",
        "colab": {
          "base_uri": "https://localhost:8080/",
          "height": 34
        }
      },
      "source": [
        "fruits = ['apple','banana','cherry']\n",
        "fruits.reverse()\n",
        "print(fruits)"
      ],
      "execution_count": 0,
      "outputs": [
        {
          "output_type": "stream",
          "text": [
            "['cherry', 'banana', 'apple']\n"
          ],
          "name": "stdout"
        }
      ]
    },
    {
      "cell_type": "markdown",
      "metadata": {
        "id": "S61bYFS2UYDZ",
        "colab_type": "text"
      },
      "source": [
        "**sort()** : Sorts the list\n",
        "\n",
        "---\n",
        "\n"
      ]
    },
    {
      "cell_type": "code",
      "metadata": {
        "id": "YkpTzoenUW4l",
        "colab_type": "code",
        "outputId": "35f35295-9bef-463d-997f-cb2940cc2393",
        "colab": {
          "base_uri": "https://localhost:8080/",
          "height": 34
        }
      },
      "source": [
        "#Sort the list alphabetically:\n",
        "\n",
        "cars = ['Ford', 'BMW', 'Volvo']\n",
        "\n",
        "cars.sort()\n",
        "\n",
        "print(cars)"
      ],
      "execution_count": 0,
      "outputs": [
        {
          "output_type": "stream",
          "text": [
            "['BMW', 'Ford', 'Volvo']\n"
          ],
          "name": "stdout"
        }
      ]
    }
  ]
}
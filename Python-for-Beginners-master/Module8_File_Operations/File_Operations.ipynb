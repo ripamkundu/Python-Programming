{
  "nbformat": 4,
  "nbformat_minor": 0,
  "metadata": {
    "colab": {
      "name": "File_Operations.ipynb",
      "version": "0.3.2",
      "provenance": []
    },
    "kernelspec": {
      "name": "python2",
      "display_name": "Python 2"
    }
  },
  "cells": [
    {
      "cell_type": "markdown",
      "metadata": {
        "id": "Y_r67OotdUZk",
        "colab_type": "text"
      },
      "source": [
        "# File Operations:\n",
        "\n",
        "---\n",
        "\n"
      ]
    },
    {
      "cell_type": "markdown",
      "metadata": {
        "id": "YBY92XG8P0S4",
        "colab_type": "text"
      },
      "source": [
        "### Creating a Text File"
      ]
    },
    {
      "cell_type": "code",
      "metadata": {
        "id": "oPQOozK7dObh",
        "colab_type": "code",
        "colab": {}
      },
      "source": [
        "# Creating A Text File Using Python\n",
        "\n",
        "file = open(\"demo.txt\",\"w\") \n",
        "\n",
        "file.write(\"Hello World\") \n",
        " \n",
        "file.write(\"\\nThis is our new text file\") \n",
        " \n",
        "file.write(\"\\nand this is another line.\") \n",
        " \n",
        "file.write(\"\\nWhy? Because we can do it this easily.\") \n",
        " \n",
        " \n",
        "file.close()"
      ],
      "execution_count": 0,
      "outputs": []
    },
    {
      "cell_type": "markdown",
      "metadata": {
        "id": "esVNR21JPuXM",
        "colab_type": "text"
      },
      "source": [
        "### Reading a Text File"
      ]
    },
    {
      "cell_type": "code",
      "metadata": {
        "id": "1omk5MsQeYhX",
        "colab_type": "code",
        "outputId": "c6cb5701-a241-49ba-eeb7-bf845aeb235b",
        "colab": {
          "base_uri": "https://localhost:8080/",
          "height": 85
        }
      },
      "source": [
        "# Reading A Text File In Python\n",
        "file = open(\"demo.txt\",\"r\") \n",
        "print(file.read())"
      ],
      "execution_count": 4,
      "outputs": [
        {
          "output_type": "stream",
          "text": [
            "Hello World\n",
            "This is our new text file\n",
            "and this is another line.\n",
            "Why? Because we can do it this easily.\n"
          ],
          "name": "stdout"
        }
      ]
    },
    {
      "cell_type": "code",
      "metadata": {
        "id": "cCSWWwBuNWCx",
        "colab_type": "code",
        "colab": {
          "base_uri": "https://localhost:8080/",
          "height": 34
        },
        "outputId": "d13b0c2d-457c-4db2-f3af-c43e43674bd5"
      },
      "source": [
        "#For example, with the following code the interpreter will read the first five characters of stored data and return it as a string:\n",
        "file = open(\"demo.txt\", \"r\")\n",
        "  \n",
        "print file.read(5) "
      ],
      "execution_count": 7,
      "outputs": [
        {
          "output_type": "stream",
          "text": [
            "Hello\n"
          ],
          "name": "stdout"
        }
      ]
    },
    {
      "cell_type": "markdown",
      "metadata": {
        "id": "9HXur-NgN1xN",
        "colab_type": "text"
      },
      "source": [
        "### Real single line:\n",
        "\n",
        "Let’s say you only want to see the first line of the file – or the third. You would execute the readline()function as many times as possible to get the data you were looking for."
      ]
    },
    {
      "cell_type": "code",
      "metadata": {
        "id": "yXjP_oyfQfQt",
        "colab_type": "code",
        "colab": {
          "base_uri": "https://localhost:8080/",
          "height": 51
        },
        "outputId": "f154dc65-0b07-4cfb-80ac-6ca2ade8a7d7"
      },
      "source": [
        "file = open(\"demo.txt\", \"r\") \n",
        "print(file.readline())"
      ],
      "execution_count": 13,
      "outputs": [
        {
          "output_type": "stream",
          "text": [
            "Hello World\n",
            "\n"
          ],
          "name": "stdout"
        }
      ]
    },
    {
      "cell_type": "markdown",
      "metadata": {
        "id": "UhYpmwFNRQ8f",
        "colab_type": "text"
      },
      "source": [
        "### Looping Over A File Object In Python: \n",
        "\n",
        "---\n",
        "\n",
        "\n",
        "When you want to read – or return – all the lines from a file in a more memory efficient, and fast manner, you can use the loop over method. The advantage to using this method is that the related code is both simple and easy to read. \n",
        "\n"
      ]
    },
    {
      "cell_type": "code",
      "metadata": {
        "id": "kSqg0XF3QslL",
        "colab_type": "code",
        "colab": {
          "base_uri": "https://localhost:8080/",
          "height": 136
        },
        "outputId": "94c7457e-41ea-41f6-d55e-c19b2755433c"
      },
      "source": [
        "file = open(\"demo.txt\", \"r\") \n",
        "for line in file: \n",
        "  print(line)"
      ],
      "execution_count": 20,
      "outputs": [
        {
          "output_type": "stream",
          "text": [
            "Hello World\n",
            "\n",
            "This is our new text file\n",
            "\n",
            "and this is another line.\n",
            "\n",
            "Why? Because we can do it this easily.\n"
          ],
          "name": "stdout"
        }
      ]
    },
    {
      "cell_type": "markdown",
      "metadata": {
        "id": "a-A7pM4NRjcs",
        "colab_type": "text"
      },
      "source": [
        "## File Write Method In Python : \n",
        "\n",
        "---\n",
        "One thing you’ll notice about the file write method is that it only requires a single parameter, which is the string you want to be written.\n",
        "\n",
        "This method is used to add information or content to an existing file. To start a new line after you write data to the file, you can add an EOL character."
      ]
    },
    {
      "cell_type": "code",
      "metadata": {
        "id": "7aJ_HP1GRYwh",
        "colab_type": "code",
        "colab": {}
      },
      "source": [
        "file = open(\"demo.txt\", \"w\")\n",
        " \n",
        "file.write(\"This is a test\") \n",
        "file.write(\"To add more lines.\")\n",
        " \n",
        "file.close()"
      ],
      "execution_count": 0,
      "outputs": []
    },
    {
      "cell_type": "markdown",
      "metadata": {
        "id": "ABHZl2weSh8u",
        "colab_type": "text"
      },
      "source": [
        "### Closing A File In Python: \n",
        "\n",
        "---\n",
        "\n",
        "\n",
        "When you’re done working, you can use the fh.close() command to end things. What this does is close the file completely, terminating resources in use, in turn freeing them up for the system to deploy elsewhere.\n",
        "\n",
        "It’s important to understand that when you use the fh.close() method, any further attempts to use the file object will fail."
      ]
    }
  ]
}
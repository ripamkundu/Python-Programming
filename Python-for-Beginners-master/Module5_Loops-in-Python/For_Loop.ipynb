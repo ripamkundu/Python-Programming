{
  "nbformat": 4,
  "nbformat_minor": 0,
  "metadata": {
    "colab": {
      "name": "For_Loop.ipynb",
      "version": "0.3.2",
      "provenance": [],
      "collapsed_sections": []
    },
    "kernelspec": {
      "name": "python3",
      "display_name": "Python 3"
    }
  },
  "cells": [
    {
      "cell_type": "markdown",
      "metadata": {
        "id": "zxc1mF6dAFU7",
        "colab_type": "text"
      },
      "source": [
        "# Python For Loops\n",
        "\n",
        "A for loop is used for ** iterating over a sequence** (that is either a list, a tuple, a dictionary, a set, or a string).\n",
        "\n",
        "This is less like the for keyword in other programming language, and works more like **an iterator method** as found in other object-orientated programming languages.\n",
        "\n",
        "With the for loop we can execute a set of statements, once for each item in a list, tuple, set etc.\n",
        "\n",
        "---\n"
      ]
    },
    {
      "cell_type": "code",
      "metadata": {
        "id": "9IjUdyNoADG9",
        "colab_type": "code",
        "outputId": "76c30b2f-729a-415f-f6ce-9b1c206334ca",
        "colab": {
          "base_uri": "https://localhost:8080/",
          "height": 68
        }
      },
      "source": [
        "# Print each fruit in a fruit list:\n",
        "\n",
        "fruits = [\"apple\",\"banana\",\"cherry\"]\n",
        "\n",
        "for x in fruits:\n",
        "  print(x)"
      ],
      "execution_count": 0,
      "outputs": [
        {
          "output_type": "stream",
          "text": [
            "apple\n",
            "banana\n",
            "cherry\n"
          ],
          "name": "stdout"
        }
      ]
    },
    {
      "cell_type": "markdown",
      "metadata": {
        "id": "AUGqQxGHARH5",
        "colab_type": "text"
      },
      "source": [
        "**Looping Through a String**\n",
        "\n",
        "Even strings are iterable objects, they contain a sequence of characters:\n",
        "\n",
        "---\n"
      ]
    },
    {
      "cell_type": "code",
      "metadata": {
        "id": "P8VdF71SAR8P",
        "colab_type": "code",
        "outputId": "235a540d-44f2-4872-b84a-992653ad02e5",
        "colab": {
          "base_uri": "https://localhost:8080/",
          "height": 119
        }
      },
      "source": [
        "# Loop through the letters in the word \"banana\":\n",
        "\n",
        "for x in \"banana\":\n",
        "  print(x)"
      ],
      "execution_count": 0,
      "outputs": [
        {
          "output_type": "stream",
          "text": [
            "b\n",
            "a\n",
            "n\n",
            "a\n",
            "n\n",
            "a\n"
          ],
          "name": "stdout"
        }
      ]
    },
    {
      "cell_type": "markdown",
      "metadata": {
        "id": "r30s6xdMAa4K",
        "colab_type": "text"
      },
      "source": [
        "**The break Statement**\n",
        "\n",
        "With the break statement we can stop the loop before it has looped through all the items:\n",
        "\n",
        "---\n",
        "\n"
      ]
    },
    {
      "cell_type": "code",
      "metadata": {
        "id": "-QsbjLF8Aesm",
        "colab_type": "code",
        "outputId": "88a746cd-3257-4d71-dcb7-ee00235393b5",
        "colab": {
          "base_uri": "https://localhost:8080/",
          "height": 51
        }
      },
      "source": [
        "fruits = [\"apple\",\"banana\",\"cherry\"]\n",
        "\n",
        "for x in fruits:\n",
        "  print(x)\n",
        "  \n",
        "  if x == \"banana\":\n",
        "    break"
      ],
      "execution_count": 0,
      "outputs": [
        {
          "output_type": "stream",
          "text": [
            "apple\n",
            "banana\n"
          ],
          "name": "stdout"
        }
      ]
    },
    {
      "cell_type": "markdown",
      "metadata": {
        "id": "DlX8Vn1EAlit",
        "colab_type": "text"
      },
      "source": [
        "Exit the loop when x is \"banana\", but this time the break comes before the print:"
      ]
    },
    {
      "cell_type": "code",
      "metadata": {
        "id": "DTRMYCqDAmb3",
        "colab_type": "code",
        "outputId": "ce42dd3b-8ad8-4938-8745-f8b05af94c67",
        "colab": {
          "base_uri": "https://localhost:8080/",
          "height": 34
        }
      },
      "source": [
        "fruits = [\"apple\", \"banana\", \"cherry\"]\n",
        "\n",
        "for x in fruits:\n",
        "  \n",
        "  if x == \"banana\":\n",
        "    break\n",
        "  \n",
        "  print(x)"
      ],
      "execution_count": 0,
      "outputs": [
        {
          "output_type": "stream",
          "text": [
            "apple\n"
          ],
          "name": "stdout"
        }
      ]
    },
    {
      "cell_type": "markdown",
      "metadata": {
        "id": "wr9PPTUIAut6",
        "colab_type": "text"
      },
      "source": [
        "**The continue Statement**\n",
        "\n",
        "With the **continue statement** we can stop the current iteration of the loop, and continue with the next:\n",
        "\n",
        "---\n"
      ]
    },
    {
      "cell_type": "code",
      "metadata": {
        "id": "mRmPL-rFAvpw",
        "colab_type": "code",
        "outputId": "08f63c51-bc39-47c3-aae7-49c75514c495",
        "colab": {
          "base_uri": "https://localhost:8080/",
          "height": 51
        }
      },
      "source": [
        "# Do not print banana:\n",
        "\n",
        "fruits = [\"apple\",\"banana\",\"cherry\"]\n",
        "\n",
        "for x in fruits:\n",
        "  if x == \"banana\":\n",
        "    continue\n",
        "  print(x)"
      ],
      "execution_count": 0,
      "outputs": [
        {
          "output_type": "stream",
          "text": [
            "apple\n",
            "cherry\n"
          ],
          "name": "stdout"
        }
      ]
    },
    {
      "cell_type": "markdown",
      "metadata": {
        "id": "qNYn5filAz5C",
        "colab_type": "text"
      },
      "source": [
        "**The range() Function**\n",
        "\n",
        "To loop through a set of code a specified number of times, we can use the ** range() function**,\n",
        "The **range() function returns a sequence of numbers**, starting from 0 by default, and increments by 1 (by default), and ends at a specified number.\n",
        "\n",
        "---\n",
        "Note that range(6) is not the values of 0 to 6, but the values 0 to 5.\n"
      ]
    },
    {
      "cell_type": "code",
      "metadata": {
        "id": "ZF84bQ7vA3Vh",
        "colab_type": "code",
        "outputId": "15c0c48b-babb-4763-8c9b-b1f80b30825d",
        "colab": {
          "base_uri": "https://localhost:8080/",
          "height": 119
        }
      },
      "source": [
        "for x in range(6):\n",
        "  print(x)"
      ],
      "execution_count": 0,
      "outputs": [
        {
          "output_type": "stream",
          "text": [
            "0\n",
            "1\n",
            "2\n",
            "3\n",
            "4\n",
            "5\n"
          ],
          "name": "stdout"
        }
      ]
    },
    {
      "cell_type": "markdown",
      "metadata": {
        "id": "j6PdXJHOBeO3",
        "colab_type": "text"
      },
      "source": [
        "The range() function defaults to 0 as a starting value, however it is possible to specify the starting value by adding a parameter: range(2, 6), which means values from 2 to 6 (but not including 6):"
      ]
    },
    {
      "cell_type": "code",
      "metadata": {
        "id": "uskmCNQOBk2H",
        "colab_type": "code",
        "outputId": "2499cccd-8b47-43af-9966-71cb5a44c5e0",
        "colab": {
          "base_uri": "https://localhost:8080/",
          "height": 85
        }
      },
      "source": [
        "for x in range(2,6):\n",
        "  print(x)"
      ],
      "execution_count": 0,
      "outputs": [
        {
          "output_type": "stream",
          "text": [
            "2\n",
            "3\n",
            "4\n",
            "5\n"
          ],
          "name": "stdout"
        }
      ]
    },
    {
      "cell_type": "markdown",
      "metadata": {
        "id": "ERqBZEKWBzbK",
        "colab_type": "text"
      },
      "source": [
        "The range() function defaults to increment the sequence by 1, however it is possible to specify the increment value by adding a third parameter: range(2, 30, 3):"
      ]
    },
    {
      "cell_type": "code",
      "metadata": {
        "id": "wsj6ouYeB2JE",
        "colab_type": "code",
        "outputId": "51d47e61-235d-4fe7-e283-903d00706a3f",
        "colab": {
          "base_uri": "https://localhost:8080/",
          "height": 119
        }
      },
      "source": [
        "for x in range(2,20,3):\n",
        "  print(x)"
      ],
      "execution_count": 0,
      "outputs": [
        {
          "output_type": "stream",
          "text": [
            "2\n",
            "5\n",
            "8\n",
            "11\n",
            "14\n",
            "17\n"
          ],
          "name": "stdout"
        }
      ]
    },
    {
      "cell_type": "markdown",
      "metadata": {
        "id": "OvL3-oAECDJS",
        "colab_type": "text"
      },
      "source": [
        "**Else in For Loop**\n",
        "\n",
        "The else keyword in a for loop specifies a block of code to be executed when the loop is finished:"
      ]
    },
    {
      "cell_type": "code",
      "metadata": {
        "id": "CO8KZDtLCF8p",
        "colab_type": "code",
        "outputId": "a67a8f8d-b571-4560-ded8-412b45bcdb60",
        "colab": {
          "base_uri": "https://localhost:8080/",
          "height": 136
        }
      },
      "source": [
        "for x in range(6):\n",
        "  print(x)\n",
        "else:\n",
        "  print(\"Finally Finished !!\")"
      ],
      "execution_count": 0,
      "outputs": [
        {
          "output_type": "stream",
          "text": [
            "0\n",
            "1\n",
            "2\n",
            "3\n",
            "4\n",
            "5\n",
            "Finally Finished !!\n"
          ],
          "name": "stdout"
        }
      ]
    }
  ]
}
{
  "nbformat": 4,
  "nbformat_minor": 0,
  "metadata": {
    "colab": {
      "name": "Nested_Loops.ipynb",
      "version": "0.3.2",
      "provenance": [],
      "collapsed_sections": []
    },
    "kernelspec": {
      "name": "python3",
      "display_name": "Python 3"
    }
  },
  "cells": [
    {
      "cell_type": "markdown",
      "metadata": {
        "id": "-PEDDsE4E1a3",
        "colab_type": "text"
      },
      "source": [
        "#Nested Loops\n",
        "\n",
        "**A nested loop is a loop inside a loop.**\n",
        "\n",
        "The \"inner loop\" will be executed one time for each iteration of the \"outer loop\":\n",
        "\n",
        "---\n",
        "\n"
      ]
    },
    {
      "cell_type": "code",
      "metadata": {
        "id": "6ET3dpclEyW5",
        "colab_type": "code",
        "outputId": "350642ae-6fcc-453a-bd8c-3873599d24bd",
        "colab": {
          "base_uri": "https://localhost:8080/",
          "height": 170
        }
      },
      "source": [
        "# Print each adjective for every fruit:\n",
        "\n",
        "adj = [\"red\", \"big\", \"tasty\"]\n",
        "fruits = [\"apple\", \"banana\", \"cherry\"]\n",
        "\n",
        "for x in adj:\n",
        "  for y in fruits:\n",
        "    print(x,y)"
      ],
      "execution_count": 0,
      "outputs": [
        {
          "output_type": "stream",
          "text": [
            "red apple\n",
            "red banana\n",
            "red cherry\n",
            "big apple\n",
            "big banana\n",
            "big cherry\n",
            "tasty apple\n",
            "tasty banana\n",
            "tasty cherry\n"
          ],
          "name": "stdout"
        }
      ]
    },
    {
      "cell_type": "markdown",
      "metadata": {
        "id": "39G9oRPoGDv6",
        "colab_type": "text"
      },
      "source": [
        "**The following program uses a nested-for loop to display multiplication tables from 1-10.**\n",
        "\n",
        "The print() function inner loop has end=' ' which appends a space instead of default newline. Hence, the numbers will appear in one row.\n",
        "\n",
        "Last print() will be executed at the end of inner for loop."
      ]
    },
    {
      "cell_type": "code",
      "metadata": {
        "id": "3_hosnpyFv4Y",
        "colab_type": "code",
        "outputId": "f69f32d2-4ee1-4c53-92df-34220ddf4d59",
        "colab": {
          "base_uri": "https://localhost:8080/",
          "height": 187
        }
      },
      "source": [
        "import sys\n",
        "for i in range(1,11):\n",
        "   for j in range(1,11):\n",
        "      k = i*j\n",
        "      print (k, end=' ')\n",
        "   print()"
      ],
      "execution_count": 0,
      "outputs": [
        {
          "output_type": "stream",
          "text": [
            "1 2 3 4 5 6 7 8 9 10 \n",
            "2 4 6 8 10 12 14 16 18 20 \n",
            "3 6 9 12 15 18 21 24 27 30 \n",
            "4 8 12 16 20 24 28 32 36 40 \n",
            "5 10 15 20 25 30 35 40 45 50 \n",
            "6 12 18 24 30 36 42 48 54 60 \n",
            "7 14 21 28 35 42 49 56 63 70 \n",
            "8 16 24 32 40 48 56 64 72 80 \n",
            "9 18 27 36 45 54 63 72 81 90 \n",
            "10 20 30 40 50 60 70 80 90 100 \n"
          ],
          "name": "stdout"
        }
      ]
    }
  ]
}
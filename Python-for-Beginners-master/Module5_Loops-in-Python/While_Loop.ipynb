{
  "nbformat": 4,
  "nbformat_minor": 0,
  "metadata": {
    "colab": {
      "name": "While_Loop.ipynb",
      "version": "0.3.2",
      "provenance": [],
      "collapsed_sections": []
    },
    "kernelspec": {
      "name": "python3",
      "display_name": "Python 3"
    }
  },
  "cells": [
    {
      "cell_type": "markdown",
      "metadata": {
        "id": "-oZN9cyI5wC8",
        "colab_type": "text"
      },
      "source": [
        "#Python While Loops\n",
        "\n",
        "**The while Loop**\n",
        "\n",
        "With the while loop we can execute a set of statements **as long as a condition is true.**\n",
        "\n",
        "The while loop requires relevant variables to be ready, in this example we need to define an indexing variable, i, which we set to 1.\n",
        "\n",
        "\n",
        "---\n",
        "\n",
        "Note: remember to increment i, or else the loop will continue forever."
      ]
    },
    {
      "cell_type": "code",
      "metadata": {
        "id": "sC2-CmQF5sH9",
        "colab_type": "code",
        "outputId": "a8141c6d-f797-4162-d5e0-677dc912843b",
        "colab": {
          "base_uri": "https://localhost:8080/",
          "height": 102
        }
      },
      "source": [
        "i = 1\n",
        "while i < 6:\n",
        "  print(i)\n",
        "  i += 1"
      ],
      "execution_count": 0,
      "outputs": [
        {
          "output_type": "stream",
          "text": [
            "1\n",
            "2\n",
            "3\n",
            "4\n",
            "5\n"
          ],
          "name": "stdout"
        }
      ]
    },
    {
      "cell_type": "markdown",
      "metadata": {
        "id": "ITV0QpoG6jG3",
        "colab_type": "text"
      },
      "source": [
        "**The break Statement**\n",
        "\n",
        "With the break statement we can stop the loop even if the while condition is true:\n",
        "\n",
        "---\n",
        "\n"
      ]
    },
    {
      "cell_type": "code",
      "metadata": {
        "id": "mE0fVCvI6mjQ",
        "colab_type": "code",
        "outputId": "5865ddf3-b2d9-403e-b327-18971c7385f5",
        "colab": {
          "base_uri": "https://localhost:8080/",
          "height": 68
        }
      },
      "source": [
        "i = 1\n",
        "\n",
        "while i < 6:\n",
        "  print(i)\n",
        "  \n",
        "  if i ==3:\n",
        "    break\n",
        "  i += 1"
      ],
      "execution_count": 0,
      "outputs": [
        {
          "output_type": "stream",
          "text": [
            "1\n",
            "2\n",
            "3\n"
          ],
          "name": "stdout"
        }
      ]
    },
    {
      "cell_type": "markdown",
      "metadata": {
        "id": "Bag6COql69DJ",
        "colab_type": "text"
      },
      "source": [
        "**The continue Statement**\n",
        "\n",
        "With the continue statement we can stop the current iteration, and continue with the next:\n",
        "\n",
        "---\n",
        "\n"
      ]
    },
    {
      "cell_type": "code",
      "metadata": {
        "id": "kFdvHj-47CND",
        "colab_type": "code",
        "outputId": "b7f3a9cc-2191-485b-9f83-33686ebffe31",
        "colab": {
          "base_uri": "https://localhost:8080/",
          "height": 102
        }
      },
      "source": [
        "i = 0\n",
        "while i < 6:\n",
        "  i += 1 \n",
        "  if i == 3:\n",
        "    continue\n",
        "  print(i)"
      ],
      "execution_count": 0,
      "outputs": [
        {
          "output_type": "stream",
          "text": [
            "1\n",
            "2\n",
            "4\n",
            "5\n",
            "6\n"
          ],
          "name": "stdout"
        }
      ]
    }
  ]
}
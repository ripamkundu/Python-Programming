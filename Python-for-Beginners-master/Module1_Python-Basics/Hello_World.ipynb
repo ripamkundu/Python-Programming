{
  "nbformat": 4,
  "nbformat_minor": 0,
  "metadata": {
    "colab": {
      "name": "Hello_World.ipynb",
      "version": "0.3.2",
      "provenance": []
    },
    "kernelspec": {
      "name": "python3",
      "display_name": "Python 3"
    }
  },
  "cells": [
    {
      "cell_type": "markdown",
      "metadata": {
        "id": "ErlH7cMYIfX4",
        "colab_type": "text"
      },
      "source": [
        "## This is the first python program for beginner !! \n"
      ]
    },
    {
      "cell_type": "code",
      "metadata": {
        "id": "KxE_9-PtIWgg",
        "colab_type": "code",
        "colab": {
          "base_uri": "https://localhost:8080/",
          "height": 34
        },
        "outputId": "64b13e7d-d1a3-4e9b-f284-17ac786e75d6"
      },
      "source": [
        "print(\"Hello World\")"
      ],
      "execution_count": 1,
      "outputs": [
        {
          "output_type": "stream",
          "text": [
            "Hello World\n"
          ],
          "name": "stdout"
        }
      ]
    }
  ]
}